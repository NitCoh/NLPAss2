{
  "nbformat": 4,
  "nbformat_minor": 0,
  "metadata": {
    "colab": {
      "name": "NLP-Ass2.ipynb",
      "provenance": [],
      "authorship_tag": "ABX9TyPz8bFrviMiXRH9vv/koS8B",
      "include_colab_link": true
    },
    "kernelspec": {
      "name": "python3",
      "display_name": "Python 3"
    }
  },
  "cells": [
    {
      "cell_type": "markdown",
      "metadata": {
        "id": "view-in-github",
        "colab_type": "text"
      },
      "source": [
        "<a href=\"https://colab.research.google.com/github/NitCoh/NLPAss2/blob/master/NLP_Ass2.ipynb\" target=\"_parent\"><img src=\"https://colab.research.google.com/assets/colab-badge.svg\" alt=\"Open In Colab\"/></a>"
      ]
    },
    {
      "cell_type": "code",
      "metadata": {
        "id": "R9i7dduqdq0s",
        "colab_type": "code",
        "colab": {}
      },
      "source": [
        "import matplotlib.pyplot as plt\n",
        "import numpy as np"
      ],
      "execution_count": 0,
      "outputs": []
    },
    {
      "cell_type": "code",
      "metadata": {
        "id": "pFXFasvIoOwl",
        "colab_type": "code",
        "outputId": "da1597b4-8451-42f7-88f5-9ce0a32d0eba",
        "colab": {
          "base_uri": "https://localhost:8080/",
          "height": 493
        }
      },
      "source": [
        "!wget 'https://www.cs.bgu.ac.il/~elhadad/nlp20/hw2_1_data.tar.gz'\n",
        "!tar -xvzf hw2_1_data.tar.gz\n",
        "!mv data ../\n",
        "!wget https://www.cs.bgu.ac.il/~elhadad/nlp20/ngram_counts.txt.gz\n",
        "!mv ngram_counts.txt.gz ../data/"
      ],
      "execution_count": 25,
      "outputs": [
        {
          "output_type": "stream",
          "text": [
            "--2020-01-10 10:11:51--  https://www.cs.bgu.ac.il/~elhadad/nlp20/hw2_1_data.tar.gz\n",
            "Resolving www.cs.bgu.ac.il (www.cs.bgu.ac.il)... 132.72.41.239\n",
            "Connecting to www.cs.bgu.ac.il (www.cs.bgu.ac.il)|132.72.41.239|:443... connected.\n",
            "HTTP request sent, awaiting response... 200 OK\n",
            "Length: 435266 (425K) [application/x-gzip]\n",
            "Saving to: ‘hw2_1_data.tar.gz.1’\n",
            "\n",
            "hw2_1_data.tar.gz.1 100%[===================>] 425.06K   335KB/s    in 1.3s    \n",
            "\n",
            "2020-01-10 10:11:54 (335 KB/s) - ‘hw2_1_data.tar.gz.1’ saved [435266/435266]\n",
            "\n",
            "data/\n",
            "data/complex_words_test_unlabeled.txt\n",
            "data/.DS_Store\n",
            "data/complex_words_development.txt\n",
            "data/complex_words_training.txt\n",
            "mv: cannot move 'data' to '../data': Directory not empty\n",
            "--2020-01-10 10:12:00--  https://www.cs.bgu.ac.il/~elhadad/nlp20/ngram_counts.txt.gz\n",
            "Resolving www.cs.bgu.ac.il (www.cs.bgu.ac.il)... 132.72.41.239\n",
            "Connecting to www.cs.bgu.ac.il (www.cs.bgu.ac.il)|132.72.41.239|:443... connected.\n",
            "HTTP request sent, awaiting response... 200 OK\n",
            "Length: 44499414 (42M) [application/x-gzip]\n",
            "Saving to: ‘ngram_counts.txt.gz’\n",
            "\n",
            "ngram_counts.txt.gz 100%[===================>]  42.44M  6.64MB/s    in 6.7s    \n",
            "\n",
            "2020-01-10 10:12:08 (6.33 MB/s) - ‘ngram_counts.txt.gz’ saved [44499414/44499414]\n",
            "\n"
          ],
          "name": "stdout"
        }
      ]
    },
    {
      "cell_type": "code",
      "metadata": {
        "id": "fUyxvJjQeKLE",
        "colab_type": "code",
        "colab": {}
      },
      "source": [
        "#############################################################\n",
        "## ASSIGNMENT 2_1 CODE SKELETON\n",
        "#############################################################\n",
        "\n",
        "from collections import defaultdict\n",
        "import gzip\n",
        "\n",
        "#### Q1.1 Evaluation Metrics ####\n",
        "\n",
        "## Input: y_pred, a list of length n with the predicted labels,\n",
        "## y_true, a list of length n with the true labels\n",
        "\n",
        "data_path = '../data'\n",
        "\n",
        "## Calculates the precision of the predicted labels\n",
        "def get_precision(y_pred, y_true):\n",
        "  # For this assignment, complex words 1 are considered positive examples, and simple words 0 are considered negative examples.\n",
        "    y_pred = [round(y) for y in y_pred]\n",
        "    tp = len([x for x,y in zip(y_pred,y_true) if x==y==1])\n",
        "    fp = len([x for x,y in zip(y_pred,y_true) if y==0 and x==1])\n",
        "    precision = tp/(tp+fp)\n",
        "    return precision\n",
        "    \n",
        "## Calculates the recall of the predicted labels\n",
        "def get_recall(y_pred, y_true):\n",
        "  \n",
        "    ## YOUR CODE HERE...\n",
        "    y_pred = [round(y) for y in y_pred]\n",
        "    tp = len([x for x,y in zip(y_pred,y_true) if x==y==1])\n",
        "    fn = len([x for x,y in zip(y_pred,y_true) if y==1 and x==0])\n",
        "    recall = tp/(tp+fn)\n",
        "    return recall\n",
        "\n",
        "## Calculates the f-score of the predicted labels\n",
        "def get_fscore(y_pred, y_true):\n",
        "    ## YOUR CODE HERE...\n",
        "    p = get_precision(y_pred,y_true)\n",
        "    r = get_recall(y_pred,y_true)\n",
        "    fscore = 2*p*r / (p +r)\n",
        "    return fscore\n",
        "\n",
        "def test_predictions(y_pred,y_true):\n",
        "    p = get_precision(y_pred,y_true)\n",
        "    r = get_recall(y_pred,y_true)\n",
        "    f1 = get_fscore(y_pred,y_true)\n",
        "    print(\"Precision:\",p)\n",
        "    print(\"Recall:\",r)\n",
        "    print(\"F-score:\",f1)\n",
        "    return p, r, f1\n",
        "\n",
        "#### 2. Complex Word Identification ####\n",
        "\n",
        "## Loads in the words and labels of one of the datasets\n",
        "def load_file(data_file):\n",
        "    words = []\n",
        "    labels = []   \n",
        "    with open(data_file, 'rt', encoding=\"utf8\") as f:\n",
        "        i = 0\n",
        "        for line in f:\n",
        "            if i > 0:\n",
        "                line_split = line[:-1].split(\"\\t\")\n",
        "                words.append(line_split[0].lower())\n",
        "                labels.append(int(line_split[1]))\n",
        "            i += 1\n",
        "    return words, labels\n",
        "\n",
        "### 1.2.1: A very simple baseline\n",
        "\n",
        "## Labels every word complex\n",
        "def all_complex(data_file):\n",
        "    ## YOUR CODE HERE...\n",
        "    _, y_true = load_file(data_file)\n",
        "    y_pred = [1]*len(y_true)\n",
        "    p, r, f1 = test_predictions(y_pred,y_true)\n",
        "\n",
        "    performance = [p, r, f1]\n",
        "    return performance\n",
        "\n",
        "\n",
        "\n",
        "def threshold_plot_helper(training_file,development_file,pred,ts_range):\n",
        "    p = []\n",
        "    r = []\n",
        "    f1= []\n",
        "    train_words,train_labels = load_file(training_file)\n",
        "    for threshold in ts_range:\n",
        "      y_pred_train = [int(pred(x,threshold)) for x in train_words]\n",
        "      p_t, r_t, f1_t = test_predictions(y_pred_train,train_labels)\n",
        "      p.append(p_t)\n",
        "      r.append(r_t)\n",
        "      f1.append(f1_t)\n",
        "    plt.ylabel('Precision')\n",
        "    plt.xlabel('Recall')\n",
        "    plt.plot(r,p)\n",
        "\n",
        "    best_index =  f1.index(max(f1))\n",
        "    best_threshold = ts_range[best_index]\n",
        "    print(\"Best threshold:\",best_threshold)\n",
        "\n",
        "\n",
        "    dev_words,dev_labels = load_file(development_file)\n",
        "    y_pred_dev = [int(pred(x,best_threshold)) for x in dev_words]\n",
        "    dprecision, drecall, dfscore = test_predictions(y_pred_dev,dev_labels)\n",
        "\n",
        "\n",
        "    training_performance = [p[best_index], r[best_index], f1[best_index]]\n",
        "    development_performance = [dprecision, drecall, dfscore]\n",
        "    return training_performance, development_performance\n",
        "\n",
        "### 1.2.2: Word length thresholding\n",
        "\n",
        "## Finds the best length threshold by f-score, and uses this threshold to\n",
        "## classify the training and development set\n",
        "def word_length_threshold(training_file, development_file):\n",
        "\n",
        "    func = lambda x,threshold: len(x) >= threshold\n",
        "    return threshold_plot_helper(training_file,development_file,func,range(5,11))\n",
        "\n",
        "### 1.2.3: Word frequency thresholding\n",
        "\n",
        "## Loads Google NGram counts\n",
        "def load_ngram_counts(ngram_counts_file): \n",
        "   counts = defaultdict(int) \n",
        "   with gzip.open(ngram_counts_file, 'rt', errors='ignore') as f: \n",
        "       for line in f:\n",
        "           token, count = line.strip().split('\\t') \n",
        "           if token[0].islower(): \n",
        "               counts[token] = int(count) \n",
        "   return counts\n",
        "\n",
        "# Finds the best frequency threshold by f-score, and uses this threshold to\n",
        "## classify the training and development set\n",
        "def word_frequency_threshold(training_file, development_file, counts):\n",
        "    func = lambda word,threshold : counts[word] >= threshold\n",
        "\n",
        "    return threshold_plot_helper(training_file,development_file,func,range(100,8000,100))\n",
        "\n",
        "### 1.3.1: Naive Bayes\n",
        "        \n",
        "## Trains a Naive Bayes classifier using length and frequency features\n",
        "def naive_bayes(training_file, development_file, counts):\n",
        "    ## YOUR CODE HERE\n",
        "    training_performance = [tprecision, trecall, tfscore]\n",
        "    development_performance = [dprecision, drecall, dfscore]\n",
        "    return training_performance, development_performance\n",
        "\n",
        "if __name__ == \"__main__\":\n",
        "    training_file = \"../data/complex_words_training.txt\"\n",
        "    development_file = \"../data/complex_words_development.txt\"\n",
        "    test_file = \"../data/complex_words_test_unlabeled.txt\"\n",
        "    train_data = load_file(training_file)\n",
        "    "
      ],
      "execution_count": 0,
      "outputs": []
    },
    {
      "cell_type": "code",
      "metadata": {
        "id": "w3xNjASeoMSC",
        "colab_type": "code",
        "colab": {
          "base_uri": "https://localhost:8080/",
          "height": 136
        },
        "outputId": "703cded0-ed6b-4b82-e42f-05862b7c3a8f"
      },
      "source": [
        "train_file_name = data_path+'/complex_words_training.txt'\n",
        "dev_file_name = data_path+'/complex_words_development.txt'\n",
        "all_complex(train_file_name)\n",
        "all_complex(dev_file_name)"
      ],
      "execution_count": 68,
      "outputs": [
        {
          "output_type": "stream",
          "text": [
            "Precision: 0.43275\n",
            "Recall: 1.0\n",
            "F-score: 0.604083057058105\n",
            "Precision: 0.418\n",
            "Recall: 1.0\n",
            "F-score: 0.5895627644569816\n"
          ],
          "name": "stdout"
        },
        {
          "output_type": "execute_result",
          "data": {
            "text/plain": [
              "[0.418, 1.0, 0.5895627644569816]"
            ]
          },
          "metadata": {
            "tags": []
          },
          "execution_count": 68
        }
      ]
    },
    {
      "cell_type": "code",
      "metadata": {
        "id": "MxnVb5Wu5cNG",
        "colab_type": "code",
        "colab": {
          "base_uri": "https://localhost:8080/",
          "height": 687
        },
        "outputId": "17f2e64a-6b17-4b35-c307-ae05dda920c5"
      },
      "source": [
        "word_length_threshold(train_file_name,dev_file_name)"
      ],
      "execution_count": 75,
      "outputs": [
        {
          "output_type": "stream",
          "text": [
            "Precision: 0.48284808302104354\n",
            "Recall: 0.9676487579433853\n",
            "F-score: 0.6442307692307692\n",
            "Precision: 0.5379449294828744\n",
            "Recall: 0.925476603119584\n",
            "F-score: 0.680399235506477\n",
            "Precision: 0.6007401315789473\n",
            "Recall: 0.8440207972270364\n",
            "F-score: 0.7018976699495555\n",
            "Precision: 0.6785119378123264\n",
            "Recall: 0.7059503177354131\n",
            "F-score: 0.6919592298980747\n",
            "Precision: 0.7456279809220986\n",
            "Recall: 0.5418833044482958\n",
            "F-score: 0.6276346604215458\n",
            "Precision: 0.7696139476961394\n",
            "Recall: 0.35701906412478335\n",
            "F-score: 0.4877663772691396\n",
            "Best threshold: 7\n",
            "Precision: 0.6053511705685619\n",
            "Recall: 0.8660287081339713\n",
            "F-score: 0.7125984251968505\n"
          ],
          "name": "stdout"
        },
        {
          "output_type": "execute_result",
          "data": {
            "text/plain": [
              "([0.6007401315789473, 0.8440207972270364, 0.7018976699495555],\n",
              " [0.6053511705685619, 0.8660287081339713, 0.7125984251968505])"
            ]
          },
          "metadata": {
            "tags": []
          },
          "execution_count": 75
        },
        {
          "output_type": "display_data",
          "data": {
            "image/png": "[encoded data removed]",
            "text/plain": [
              "<Figure size 432x288 with 1 Axes>"
            ]
          },
          "metadata": {
            "tags": []
          }
        }
      ]
    },
    {
      "cell_type": "code",
      "metadata": {
        "id": "XeES8WCeDGWL",
        "colab_type": "code",
        "colab": {
          "base_uri": "https://localhost:8080/",
          "height": 34
        },
        "outputId": "22cac508-9022-45ae-f802-8369727c276a"
      },
      "source": [
        "counts = load_ngram_counts(data_path+ngram_path)\n",
        "avg = sum([val for val in counts.values()])/len(counts)\n",
        "avg"
      ],
      "execution_count": 57,
      "outputs": [
        {
          "output_type": "execute_result",
          "data": {
            "text/plain": [
              "155220.22442134944"
            ]
          },
          "metadata": {
            "tags": []
          },
          "execution_count": 57
        }
      ]
    },
    {
      "cell_type": "code",
      "metadata": {
        "id": "FjyLRRwrEnvc",
        "colab_type": "code",
        "colab": {
          "base_uri": "https://localhost:8080/",
          "height": 34
        },
        "outputId": "d49c2dbf-283d-447d-bfba-0959e4f852f3"
      },
      "source": [
        "counts['the']"
      ],
      "execution_count": 59,
      "outputs": [
        {
          "output_type": "execute_result",
          "data": {
            "text/plain": [
              "47376829651"
            ]
          },
          "metadata": {
            "tags": []
          },
          "execution_count": 59
        }
      ]
    },
    {
      "cell_type": "code",
      "metadata": {
        "id": "IygRz_AByyCS",
        "colab_type": "code",
        "colab": {
          "base_uri": "https://localhost:8080/",
          "height": 1000
        },
        "outputId": "c542e975-2d56-4e37-af30-56443bee6af4"
      },
      "source": [
        "ngram_path = '/ngram_counts.txt.gz'\n",
        "\n",
        "word_frequency_threshold(train_file_name,dev_file_name,counts)\n"
      ],
      "execution_count": 77,
      "outputs": [
        {
          "output_type": "stream",
          "text": [
            "Precision: 0.4348279457768509\n",
            "Recall: 0.9636048526863085\n",
            "F-score: 0.5992455541584337\n",
            "Precision: 0.4348279457768509\n",
            "Recall: 0.9636048526863085\n",
            "F-score: 0.5992455541584337\n",
            "Precision: 0.4350547730829421\n",
            "Recall: 0.9636048526863085\n",
            "F-score: 0.5994609164420486\n",
            "Precision: 0.4349073832507174\n",
            "Recall: 0.9630271519352975\n",
            "F-score: 0.5992092020129404\n",
            "Precision: 0.43487340120073087\n",
            "Recall: 0.9624494511842865\n",
            "F-score: 0.5990650845019776\n",
            "Precision: 0.43506663182649596\n",
            "Recall: 0.9618717504332756\n",
            "F-score: 0.5991363799928032\n",
            "Precision: 0.4351803450078411\n",
            "Recall: 0.9618717504332756\n",
            "F-score: 0.5992441965089077\n",
            "Precision: 0.4351803450078411\n",
            "Recall: 0.9618717504332756\n",
            "F-score: 0.5992441965089077\n",
            "Precision: 0.43529411764705883\n",
            "Recall: 0.9618717504332756\n",
            "F-score: 0.599352051835853\n",
            "Precision: 0.43529411764705883\n",
            "Recall: 0.9618717504332756\n",
            "F-score: 0.599352051835853\n",
            "Precision: 0.4355218414857442\n",
            "Recall: 0.9618717504332756\n",
            "F-score: 0.5995678790061217\n",
            "Precision: 0.4355218414857442\n",
            "Recall: 0.9618717504332756\n",
            "F-score: 0.5995678790061217\n",
            "Precision: 0.4355218414857442\n",
            "Recall: 0.9618717504332756\n",
            "F-score: 0.5995678790061217\n",
            "Precision: 0.4355218414857442\n",
            "Recall: 0.9618717504332756\n",
            "F-score: 0.5995678790061217\n",
            "Precision: 0.4355218414857442\n",
            "Recall: 0.9618717504332756\n",
            "F-score: 0.5995678790061217\n",
            "Precision: 0.4356020942408377\n",
            "Recall: 0.9612940496822646\n",
            "F-score: 0.5995316159250585\n",
            "Precision: 0.4356020942408377\n",
            "Recall: 0.9612940496822646\n",
            "F-score: 0.5995316159250585\n",
            "Precision: 0.4356020942408377\n",
            "Recall: 0.9612940496822646\n",
            "F-score: 0.5995316159250585\n",
            "Precision: 0.4358302776322682\n",
            "Recall: 0.9612940496822646\n",
            "F-score: 0.5997477022887007\n",
            "Precision: 0.4356824731464501\n",
            "Recall: 0.9607163489312536\n",
            "F-score: 0.5994953136265321\n",
            "Precision: 0.4356824731464501\n",
            "Recall: 0.9607163489312536\n",
            "F-score: 0.5994953136265321\n",
            "Precision: 0.4356824731464501\n",
            "Recall: 0.9607163489312536\n",
            "F-score: 0.5994953136265321\n",
            "Precision: 0.4356824731464501\n",
            "Recall: 0.9607163489312536\n",
            "F-score: 0.5994953136265321\n",
            "Precision: 0.4356824731464501\n",
            "Recall: 0.9607163489312536\n",
            "F-score: 0.5994953136265321\n",
            "Precision: 0.4356824731464501\n",
            "Recall: 0.9607163489312536\n",
            "F-score: 0.5994953136265321\n",
            "Precision: 0.43553459119496857\n",
            "Recall: 0.9601386481802426\n",
            "F-score: 0.5992428339643051\n",
            "Precision: 0.43538663171690695\n",
            "Recall: 0.9595609474292317\n",
            "F-score: 0.5989902632527947\n",
            "Precision: 0.43550078657577346\n",
            "Recall: 0.9595609474292317\n",
            "F-score: 0.5990982867448151\n",
            "Precision: 0.43550078657577346\n",
            "Recall: 0.9595609474292317\n",
            "F-score: 0.5990982867448151\n",
            "Precision: 0.43550078657577346\n",
            "Recall: 0.9595609474292317\n",
            "F-score: 0.5990982867448151\n",
            "Precision: 0.43561500131130343\n",
            "Recall: 0.9595609474292317\n",
            "F-score: 0.5992063492063492\n",
            "Precision: 0.43561500131130343\n",
            "Recall: 0.9595609474292317\n",
            "F-score: 0.5992063492063492\n",
            "Precision: 0.43561500131130343\n",
            "Recall: 0.9595609474292317\n",
            "F-score: 0.5992063492063492\n",
            "Precision: 0.43561500131130343\n",
            "Recall: 0.9595609474292317\n",
            "F-score: 0.5992063492063492\n",
            "Precision: 0.43561500131130343\n",
            "Recall: 0.9595609474292317\n",
            "F-score: 0.5992063492063492\n",
            "Precision: 0.4357292759706191\n",
            "Recall: 0.9595609474292317\n",
            "F-score: 0.5993144506584882\n",
            "Precision: 0.4357292759706191\n",
            "Recall: 0.9595609474292317\n",
            "F-score: 0.5993144506584882\n",
            "Precision: 0.4357292759706191\n",
            "Recall: 0.9595609474292317\n",
            "F-score: 0.5993144506584882\n",
            "Precision: 0.4357292759706191\n",
            "Recall: 0.9595609474292317\n",
            "F-score: 0.5993144506584882\n",
            "Precision: 0.4357292759706191\n",
            "Recall: 0.9595609474292317\n",
            "F-score: 0.5993144506584882\n",
            "Precision: 0.4357292759706191\n",
            "Recall: 0.9595609474292317\n",
            "F-score: 0.5993144506584882\n",
            "Precision: 0.4357292759706191\n",
            "Recall: 0.9595609474292317\n",
            "F-score: 0.5993144506584882\n",
            "Precision: 0.4355812122802414\n",
            "Recall: 0.9589832466782207\n",
            "F-score: 0.5990617105738001\n",
            "Precision: 0.4355812122802414\n",
            "Recall: 0.9589832466782207\n",
            "F-score: 0.5990617105738001\n",
            "Precision: 0.4355812122802414\n",
            "Recall: 0.9589832466782207\n",
            "F-score: 0.5990617105738001\n",
            "Precision: 0.4355812122802414\n",
            "Recall: 0.9589832466782207\n",
            "F-score: 0.5990617105738001\n",
            "Precision: 0.4355812122802414\n",
            "Recall: 0.9589832466782207\n",
            "F-score: 0.5990617105738001\n",
            "Precision: 0.4355812122802414\n",
            "Recall: 0.9589832466782207\n",
            "F-score: 0.5990617105738001\n",
            "Precision: 0.4355812122802414\n",
            "Recall: 0.9589832466782207\n",
            "F-score: 0.5990617105738001\n",
            "Precision: 0.4355812122802414\n",
            "Recall: 0.9589832466782207\n",
            "F-score: 0.5990617105738001\n",
            "Precision: 0.4355812122802414\n",
            "Recall: 0.9589832466782207\n",
            "F-score: 0.5990617105738001\n",
            "Precision: 0.4355812122802414\n",
            "Recall: 0.9589832466782207\n",
            "F-score: 0.5990617105738001\n",
            "Precision: 0.4355812122802414\n",
            "Recall: 0.9589832466782207\n",
            "F-score: 0.5990617105738001\n",
            "Precision: 0.4355812122802414\n",
            "Recall: 0.9589832466782207\n",
            "F-score: 0.5990617105738001\n",
            "Precision: 0.43543307086614175\n",
            "Recall: 0.9584055459272097\n",
            "F-score: 0.5988088792636709\n",
            "Precision: 0.43528485166710423\n",
            "Recall: 0.9578278451761987\n",
            "F-score: 0.5985559566787003\n",
            "Precision: 0.43528485166710423\n",
            "Recall: 0.9578278451761987\n",
            "F-score: 0.5985559566787003\n",
            "Precision: 0.43528485166710423\n",
            "Recall: 0.9578278451761987\n",
            "F-score: 0.5985559566787003\n",
            "Precision: 0.43513655462184875\n",
            "Recall: 0.9572501444251877\n",
            "F-score: 0.598302942769453\n",
            "Precision: 0.43513655462184875\n",
            "Recall: 0.9572501444251877\n",
            "F-score: 0.598302942769453\n",
            "Precision: 0.43525085369057\n",
            "Recall: 0.9572501444251877\n",
            "F-score: 0.5984109786926689\n",
            "Precision: 0.43525085369057\n",
            "Recall: 0.9572501444251877\n",
            "F-score: 0.5984109786926689\n",
            "Precision: 0.43525085369057\n",
            "Recall: 0.9572501444251877\n",
            "F-score: 0.5984109786926689\n",
            "Precision: 0.43525085369057\n",
            "Recall: 0.9572501444251877\n",
            "F-score: 0.5984109786926689\n",
            "Precision: 0.43525085369057\n",
            "Recall: 0.9572501444251877\n",
            "F-score: 0.5984109786926689\n",
            "Precision: 0.43525085369057\n",
            "Recall: 0.9572501444251877\n",
            "F-score: 0.5984109786926689\n",
            "Precision: 0.43525085369057\n",
            "Recall: 0.9572501444251877\n",
            "F-score: 0.5984109786926689\n",
            "Precision: 0.43525085369057\n",
            "Recall: 0.9572501444251877\n",
            "F-score: 0.5984109786926689\n",
            "Precision: 0.4352168199737188\n",
            "Recall: 0.9566724436741768\n",
            "F-score: 0.5982658959537572\n",
            "Precision: 0.4352168199737188\n",
            "Recall: 0.9566724436741768\n",
            "F-score: 0.5982658959537572\n",
            "Precision: 0.4352168199737188\n",
            "Recall: 0.9566724436741768\n",
            "F-score: 0.5982658959537572\n",
            "Precision: 0.435068349106204\n",
            "Recall: 0.9560947429231658\n",
            "F-score: 0.5980126467931346\n",
            "Precision: 0.435068349106204\n",
            "Recall: 0.9560947429231658\n",
            "F-score: 0.5980126467931346\n",
            "Precision: 0.4349198001577702\n",
            "Recall: 0.9555170421721548\n",
            "F-score: 0.5977593061076979\n",
            "Precision: 0.4349198001577702\n",
            "Recall: 0.9555170421721548\n",
            "F-score: 0.5977593061076979\n",
            "Precision: 0.4349198001577702\n",
            "Recall: 0.9555170421721548\n",
            "F-score: 0.5977593061076979\n",
            "Precision: 0.4349198001577702\n",
            "Recall: 0.9555170421721548\n",
            "F-score: 0.5977593061076979\n",
            "Precision: 0.4349198001577702\n",
            "Recall: 0.9555170421721548\n",
            "F-score: 0.5977593061076979\n",
            "Precision: 0.4349198001577702\n",
            "Recall: 0.9555170421721548\n",
            "F-score: 0.5977593061076979\n",
            "Best threshold: 1900\n",
            "Precision: 0.4227129337539432\n",
            "Recall: 0.9617224880382775\n",
            "F-score: 0.587289992695398\n"
          ],
          "name": "stdout"
        },
        {
          "output_type": "execute_result",
          "data": {
            "text/plain": [
              "([0.4358302776322682, 0.9612940496822646, 0.5997477022887007],\n",
              " [0.4227129337539432, 0.9617224880382775, 0.587289992695398])"
            ]
          },
          "metadata": {
            "tags": []
          },
          "execution_count": 77
        },
        {
          "output_type": "display_data",
          "data": {
            "image/png": "[encoded data removed]",
            "text/plain": [
              "<Figure size 432x288 with 1 Axes>"
            ]
          },
          "metadata": {
            "tags": []
          }
        }
      ]
    },
    {
      "cell_type": "code",
      "metadata": {
        "id": "TJw4nGI3AGKw",
        "colab_type": "code",
        "colab": {}
      },
      "source": [
        ""
      ],
      "execution_count": 0,
      "outputs": []
    }
  ]
}