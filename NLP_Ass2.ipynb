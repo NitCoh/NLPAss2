{
  "nbformat": 4,
  "nbformat_minor": 0,
  "metadata": {
    "colab": {
      "name": "NLP-Ass2.ipynb",
      "provenance": [],
      "collapsed_sections": [],
      "machine_shape": "hm",
      "authorship_tag": "ABX9TyM2N/jEQXwtntZZIouACBph",
      "include_colab_link": true
    },
    "kernelspec": {
      "name": "python3",
      "display_name": "Python 3"
    }
  },
  "cells": [
    {
      "cell_type": "markdown",
      "metadata": {
        "id": "view-in-github",
        "colab_type": "text"
      },
      "source": [
        "<a href=\"https://colab.research.google.com/github/NitCoh/NLPAss2/blob/master/NLP_Ass2.ipynb\" target=\"_parent\"><img src=\"https://colab.research.google.com/assets/colab-badge.svg\" alt=\"Open In Colab\"/></a>"
      ]
    },
    {
      "cell_type": "code",
      "metadata": {
        "id": "R9i7dduqdq0s",
        "colab_type": "code",
        "colab": {}
      },
      "source": [
        "import matplotlib.pyplot as plt\n",
        "import numpy as np\n",
        "from sklearn.naive_bayes import GaussianNB\n"
      ],
      "execution_count": 0,
      "outputs": []
    },
    {
      "cell_type": "code",
      "metadata": {
        "id": "pFXFasvIoOwl",
        "colab_type": "code",
        "outputId": "48135a04-39aa-4151-f089-f10e907e40f0",
        "colab": {
          "base_uri": "https://localhost:8080/",
          "height": 323
        }
      },
      "source": [
        "!wget 'https://www.cs.bgu.ac.il/~elhadad/nlp20/hw2_1_data.tar.gz'\n",
        "!tar -xvzf hw2_1_data.tar.gz\n",
        "!mv data ../\n",
        "!wget https://www.cs.bgu.ac.il/~elhadad/nlp20/ngram_counts.txt.gz\n",
        "!mv ngram_counts.txt.gz ../data/"
      ],
      "execution_count": 2,
      "outputs": [
        {
          "output_type": "stream",
          "text": [
            "--2020-01-16 13:04:31--  https://www.cs.bgu.ac.il/~elhadad/nlp20/hw2_1_data.tar.gz\n",
            "Resolving www.cs.bgu.ac.il (www.cs.bgu.ac.il)... 132.72.41.239\n",
            "Connecting to www.cs.bgu.ac.il (www.cs.bgu.ac.il)|132.72.41.239|:443... connected.\n",
            "ERROR: cannot verify www.cs.bgu.ac.il's certificate, issued by ‘CN=Let's Encrypt Authority X3,O=Let's Encrypt,C=US’:\n",
            "  Unable to locally verify the issuer's authority.\n",
            "To connect to www.cs.bgu.ac.il insecurely, use `--no-check-certificate'.\n",
            "tar (child): hw2_1_data.tar.gz: Cannot open: No such file or directory\n",
            "tar (child): Error is not recoverable: exiting now\n",
            "tar: Child returned status 2\n",
            "tar: Error is not recoverable: exiting now\n",
            "mv: cannot stat 'data': No such file or directory\n",
            "--2020-01-16 13:04:42--  https://www.cs.bgu.ac.il/~elhadad/nlp20/ngram_counts.txt.gz\n",
            "Resolving www.cs.bgu.ac.il (www.cs.bgu.ac.il)... 132.72.41.239\n",
            "Connecting to www.cs.bgu.ac.il (www.cs.bgu.ac.il)|132.72.41.239|:443... connected.\n",
            "ERROR: cannot verify www.cs.bgu.ac.il's certificate, issued by ‘CN=Let's Encrypt Authority X3,O=Let's Encrypt,C=US’:\n",
            "  Unable to locally verify the issuer's authority.\n",
            "To connect to www.cs.bgu.ac.il insecurely, use `--no-check-certificate'.\n",
            "mv: cannot stat 'ngram_counts.txt.gz': No such file or directory\n"
          ],
          "name": "stdout"
        }
      ]
    },
    {
      "cell_type": "code",
      "metadata": {
        "id": "fUyxvJjQeKLE",
        "colab_type": "code",
        "colab": {
          "base_uri": "https://localhost:8080/",
          "height": 333
        },
        "outputId": "5578a2d6-5d04-4410-b958-ad3a6b97b7e3"
      },
      "source": [
        "#############################################################\n",
        "## ASSIGNMENT 2_1 CODE SKELETON\n",
        "#############################################################\n",
        "\n",
        "from collections import defaultdict\n",
        "import gzip\n",
        "\n",
        "#### Q1.1 Evaluation Metrics ####\n",
        "\n",
        "## Input: y_pred, a list of length n with the predicted labels,\n",
        "## y_true, a list of length n with the true labels\n",
        "\n",
        "data_path = '../data'\n",
        "\n",
        "## Calculates the precision of the predicted labels\n",
        "def get_precision(y_pred, y_true):\n",
        "  # For this assignment, complex words 1 are considered positive examples, and simple words 0 are considered negative examples.\n",
        "    y_pred = [round(y) for y in y_pred]\n",
        "    tp = len([x for x,y in zip(y_pred,y_true) if x==y==1])\n",
        "    fp = len([x for x,y in zip(y_pred,y_true) if y==0 and x==1])\n",
        "    precision = tp/(tp+fp)\n",
        "    return precision\n",
        "    \n",
        "## Calculates the recall of the predicted labels\n",
        "def get_recall(y_pred, y_true):\n",
        "  \n",
        "    ## YOUR CODE HERE...\n",
        "    y_pred = [round(y) for y in y_pred]\n",
        "    tp = len([x for x,y in zip(y_pred,y_true) if x==y==1])\n",
        "    fn = len([x for x,y in zip(y_pred,y_true) if y==1 and x==0])\n",
        "    recall = tp/(tp+fn)\n",
        "    return recall\n",
        "\n",
        "## Calculates the f-score of the predicted labels\n",
        "def get_fscore(y_pred, y_true):\n",
        "    ## YOUR CODE HERE...\n",
        "    p = get_precision(y_pred,y_true)\n",
        "    r = get_recall(y_pred,y_true)\n",
        "    fscore = 2*p*r / (p +r)\n",
        "    return fscore\n",
        "\n",
        "def test_predictions(y_pred,y_true):\n",
        "    p = get_precision(y_pred,y_true)\n",
        "    r = get_recall(y_pred,y_true)\n",
        "    f1 = get_fscore(y_pred,y_true)\n",
        "    print(\"Precision:\",p)\n",
        "    print(\"Recall:\",r)\n",
        "    print(\"F-score:\",f1)\n",
        "    return p, r, f1\n",
        "\n",
        "#### 2. Complex Word Identification ####\n",
        "\n",
        "## Loads in the words and labels of one of the datasets\n",
        "def load_file(data_file):\n",
        "    words = []\n",
        "    labels = []   \n",
        "    with open(data_file, 'rt', encoding=\"utf8\") as f:\n",
        "        i = 0\n",
        "        for line in f:\n",
        "            if i > 0:\n",
        "                line_split = line[:-1].split(\"\\t\")\n",
        "                words.append(line_split[0].lower())\n",
        "                labels.append(int(line_split[1]))\n",
        "            i += 1\n",
        "    return words, labels\n",
        "\n",
        "### 1.2.1: A very simple baseline\n",
        "\n",
        "## Labels every word complex\n",
        "def all_complex(data_file):\n",
        "    ## YOUR CODE HERE...\n",
        "    _, y_true = load_file(data_file)\n",
        "    y_pred = [1]*len(y_true)\n",
        "    p, r, f1 = test_predictions(y_pred,y_true)\n",
        "\n",
        "    performance = [p, r, f1]\n",
        "    return performance\n",
        "\n",
        "\n",
        "\n",
        "def threshold_plot_helper(training_file,development_file,pred,ts_range):\n",
        "    p = []\n",
        "    r = []\n",
        "    f1= []\n",
        "    train_words,train_labels = load_file(training_file)\n",
        "    for threshold in ts_range:\n",
        "      y_pred_train = [int(pred(x,threshold)) for x in train_words]\n",
        "      p_t, r_t, f1_t = test_predictions(y_pred_train,train_labels)\n",
        "      p.append(p_t)\n",
        "      r.append(r_t)\n",
        "      f1.append(f1_t)\n",
        "    plt.ylabel('Precision')\n",
        "    plt.xlabel('Recall')\n",
        "    plt.plot(r,p)\n",
        "\n",
        "    best_index =  f1.index(max(f1))\n",
        "    best_threshold = ts_range[best_index]\n",
        "    print(\"Best threshold:\",best_threshold)\n",
        "\n",
        "\n",
        "    dev_words,dev_labels = load_file(development_file)\n",
        "    y_pred_dev = [int(pred(x,best_threshold)) for x in dev_words]\n",
        "    dprecision, drecall, dfscore = test_predictions(y_pred_dev,dev_labels)\n",
        "\n",
        "\n",
        "    training_performance = [p[best_index], r[best_index], f1[best_index]]\n",
        "    development_performance = [dprecision, drecall, dfscore]\n",
        "    return training_performance, development_performance\n",
        "\n",
        "### 1.2.2: Word length thresholding\n",
        "\n",
        "## Finds the best length threshold by f-score, and uses this threshold to\n",
        "## classify the training and development set\n",
        "def word_length_threshold(training_file, development_file):\n",
        "\n",
        "    func = lambda x,threshold: len(x) >= threshold\n",
        "    return threshold_plot_helper(training_file,development_file,func,range(5,11))\n",
        "\n",
        "### 1.2.3: Word frequency thresholding\n",
        "\n",
        "## Loads Google NGram counts\n",
        "def load_ngram_counts(ngram_counts_file): \n",
        "   counts = defaultdict(int) \n",
        "   with gzip.open(ngram_counts_file, 'rt', errors='ignore') as f: \n",
        "       for line in f:\n",
        "           token, count = line.strip().split('\\t') \n",
        "           if token[0].islower(): \n",
        "               counts[token] = int(count) \n",
        "   return counts\n",
        "\n",
        "# Finds the best frequency threshold by f-score, and uses this threshold to\n",
        "## classify the training and development set\n",
        "def word_frequency_threshold(training_file, development_file, counts):\n",
        "    func = lambda word,threshold : counts[word] >= threshold\n",
        "\n",
        "    return threshold_plot_helper(training_file,development_file,func,range(100,8000,100))\n",
        "\n",
        "### 1.3.1: Naive Bayes\n",
        "        \n",
        "def dataset_params(words,counts):\n",
        "  mean_length = sum([len(word) for word in words])/len(words)\n",
        "  std_length = sum([len(word) - mean_length for word in words])/len(words)\n",
        "\n",
        "  mean_counts = sum([counts[word] for word in words])/len(words)\n",
        "  std_counts = sum([counts[word] - mean_counts for word in words])/len(words)\n",
        "\n",
        "  return mean_length,std_length,mean_counts,std_counts\n",
        "\n",
        "## Trains a Naive Bayes classifier using length and frequency features\n",
        "def naive_bayes(training_file, development_file, counts):\n",
        "    \n",
        "\n",
        "    def get_features(word,params):\n",
        "      mean_length,std_length,mean_counts,std_counts = params\n",
        "      l = (len(word) - mean_length) / std_length\n",
        "      c = (counts[word] - mean_counts) / std_counts\n",
        "      return [l,c]\n",
        "\n",
        "    def get_features2(word,params):\n",
        "      l = len(word)\n",
        "      c = counts[word]\n",
        "      return [l,c]\n",
        "\n",
        "\n",
        "    train_words,train_labels = load_file(training_file)\n",
        "    params = dataset_params(train_words,counts)\n",
        "    print(\"PARAMS:\",params)\n",
        "    X_train = np.array([np.array(get_features(word,params)) for word in train_words])\n",
        "    y_true_train = np.array(train_labels)\n",
        "    print(\"-----------------------------------\")\n",
        "    print(X_train)\n",
        "    print(\"-----------------------------------\")\n",
        "\n",
        "    clf = GaussianNB()\n",
        "    clf.fit(X_train,y_true_train)\n",
        "    y_pred_train = clf.predict(X_train)\n",
        "    tprecision, trecall, tfscore = test_predictions(y_pred_train,y_true_train)\n",
        "    training_performance = [tprecision, trecall, tfscore]\n",
        "\n",
        "    #dev\n",
        "    dev_words,dev_labels = load_file(development_file)\n",
        "\n",
        "    X_test = np.array([np.array(get_features(word,params)) for word in dev_words])\n",
        "    y_true_test = np.array(dev_labels)\n",
        "\n",
        "    y_pred_test = clf.predict(X_test)\n",
        "  \n",
        "    dprecision, drecall, dfscore = test_predictions(y_pred_test,y_true_test)\n",
        "    development_performance = [dprecision, drecall, dfscore]\n",
        "    return training_performance, development_performance\n",
        "\n",
        "if __name__ == \"__main__\":\n",
        "    training_file = \"../data/complex_words_training.txt\"\n",
        "    development_file = \"../data/complex_words_development.txt\"\n",
        "    test_file = \"../data/complex_words_test_unlabeled.txt\"\n",
        "    train_data = load_file(training_file)\n",
        "    "
      ],
      "execution_count": 3,
      "outputs": [
        {
          "output_type": "error",
          "ename": "FileNotFoundError",
          "evalue": "ignored",
          "traceback": [
            "\u001b[0;31m---------------------------------------------------------------------------\u001b[0m",
            "\u001b[0;31mFileNotFoundError\u001b[0m                         Traceback (most recent call last)",
            "\u001b[0;32m<ipython-input-3-58b271d96c68>\u001b[0m in \u001b[0;36m<module>\u001b[0;34m()\u001b[0m\n\u001b[1;32m    191\u001b[0m     \u001b[0mdevelopment_file\u001b[0m \u001b[0;34m=\u001b[0m \u001b[0;34m\"../data/complex_words_development.txt\"\u001b[0m\u001b[0;34m\u001b[0m\u001b[0;34m\u001b[0m\u001b[0m\n\u001b[1;32m    192\u001b[0m     \u001b[0mtest_file\u001b[0m \u001b[0;34m=\u001b[0m \u001b[0;34m\"../data/complex_words_test_unlabeled.txt\"\u001b[0m\u001b[0;34m\u001b[0m\u001b[0;34m\u001b[0m\u001b[0m\n\u001b[0;32m--> 193\u001b[0;31m     \u001b[0mtrain_data\u001b[0m \u001b[0;34m=\u001b[0m \u001b[0mload_file\u001b[0m\u001b[0;34m(\u001b[0m\u001b[0mtraining_file\u001b[0m\u001b[0;34m)\u001b[0m\u001b[0;34m\u001b[0m\u001b[0;34m\u001b[0m\u001b[0m\n\u001b[0m\u001b[1;32m    194\u001b[0m \u001b[0;34m\u001b[0m\u001b[0m\n",
            "\u001b[0;32m<ipython-input-3-58b271d96c68>\u001b[0m in \u001b[0;36mload_file\u001b[0;34m(data_file)\u001b[0m\n\u001b[1;32m     52\u001b[0m     \u001b[0mwords\u001b[0m \u001b[0;34m=\u001b[0m \u001b[0;34m[\u001b[0m\u001b[0;34m]\u001b[0m\u001b[0;34m\u001b[0m\u001b[0;34m\u001b[0m\u001b[0m\n\u001b[1;32m     53\u001b[0m     \u001b[0mlabels\u001b[0m \u001b[0;34m=\u001b[0m \u001b[0;34m[\u001b[0m\u001b[0;34m]\u001b[0m\u001b[0;34m\u001b[0m\u001b[0;34m\u001b[0m\u001b[0m\n\u001b[0;32m---> 54\u001b[0;31m     \u001b[0;32mwith\u001b[0m \u001b[0mopen\u001b[0m\u001b[0;34m(\u001b[0m\u001b[0mdata_file\u001b[0m\u001b[0;34m,\u001b[0m \u001b[0;34m'rt'\u001b[0m\u001b[0;34m,\u001b[0m \u001b[0mencoding\u001b[0m\u001b[0;34m=\u001b[0m\u001b[0;34m\"utf8\"\u001b[0m\u001b[0;34m)\u001b[0m \u001b[0;32mas\u001b[0m \u001b[0mf\u001b[0m\u001b[0;34m:\u001b[0m\u001b[0;34m\u001b[0m\u001b[0;34m\u001b[0m\u001b[0m\n\u001b[0m\u001b[1;32m     55\u001b[0m         \u001b[0mi\u001b[0m \u001b[0;34m=\u001b[0m \u001b[0;36m0\u001b[0m\u001b[0;34m\u001b[0m\u001b[0;34m\u001b[0m\u001b[0m\n\u001b[1;32m     56\u001b[0m         \u001b[0;32mfor\u001b[0m \u001b[0mline\u001b[0m \u001b[0;32min\u001b[0m \u001b[0mf\u001b[0m\u001b[0;34m:\u001b[0m\u001b[0;34m\u001b[0m\u001b[0;34m\u001b[0m\u001b[0m\n",
            "\u001b[0;31mFileNotFoundError\u001b[0m: [Errno 2] No such file or directory: '../data/complex_words_training.txt'"
          ]
        }
      ]
    },
    {
      "cell_type": "code",
      "metadata": {
        "id": "O1LngW4AWhce",
        "colab_type": "code",
        "colab": {}
      },
      "source": [
        "a = np.array([np.array([a,b])for a,b in enumerate([1,2,3,4])])\n",
        "print(a)"
      ],
      "execution_count": 0,
      "outputs": []
    },
    {
      "cell_type": "code",
      "metadata": {
        "id": "w3xNjASeoMSC",
        "colab_type": "code",
        "colab": {}
      },
      "source": [
        "train_file_name = data_path+'/complex_words_training.txt'\n",
        "dev_file_name = data_path+'/complex_words_development.txt'\n",
        "test_file_name = data_path+'/complex_words_test_unlabeled.txt'\n",
        "all_complex(train_file_name)\n",
        "all_complex(dev_file_name)"
      ],
      "execution_count": 0,
      "outputs": []
    },
    {
      "cell_type": "code",
      "metadata": {
        "id": "MxnVb5Wu5cNG",
        "colab_type": "code",
        "colab": {}
      },
      "source": [
        "word_length_threshold(train_file_name,dev_file_name)"
      ],
      "execution_count": 0,
      "outputs": []
    },
    {
      "cell_type": "code",
      "metadata": {
        "id": "XeES8WCeDGWL",
        "colab_type": "code",
        "colab": {}
      },
      "source": [
        "counts = load_ngram_counts(data_path+ngram_path)\n",
        "avg = sum([val for val in counts.values()])/len(counts)\n",
        "avg"
      ],
      "execution_count": 0,
      "outputs": []
    },
    {
      "cell_type": "code",
      "metadata": {
        "id": "FjyLRRwrEnvc",
        "colab_type": "code",
        "colab": {}
      },
      "source": [
        "counts['the']"
      ],
      "execution_count": 0,
      "outputs": []
    },
    {
      "cell_type": "code",
      "metadata": {
        "id": "IygRz_AByyCS",
        "colab_type": "code",
        "colab": {}
      },
      "source": [
        "ngram_path = '/ngram_counts.txt.gz'\n",
        "\n",
        "word_frequency_threshold(train_file_name,dev_file_name,counts)\n"
      ],
      "execution_count": 0,
      "outputs": []
    },
    {
      "cell_type": "code",
      "metadata": {
        "id": "TJw4nGI3AGKw",
        "colab_type": "code",
        "colab": {}
      },
      "source": [
        ""
      ],
      "execution_count": 0,
      "outputs": []
    },
    {
      "cell_type": "markdown",
      "metadata": {
        "id": "NKRLgZY1OhE9",
        "colab_type": "text"
      },
      "source": [
        "Q 1.3 Classifiers"
      ]
    },
    {
      "cell_type": "markdown",
      "metadata": {
        "id": "QwG-EYuOOmUP",
        "colab_type": "text"
      },
      "source": [
        "1.3.1 Naive Bayes classification\n"
      ]
    },
    {
      "cell_type": "code",
      "metadata": {
        "id": "2zjEwOHYOkv-",
        "colab_type": "code",
        "colab": {}
      },
      "source": [
        "naive_bayes(train_file_name,dev_file_name,counts)"
      ],
      "execution_count": 0,
      "outputs": []
    },
    {
      "cell_type": "markdown",
      "metadata": {
        "id": "1SkZbaLOyLMg",
        "colab_type": "text"
      },
      "source": [
        "Q1.4. Ambiguity\n"
      ]
    },
    {
      "cell_type": "code",
      "metadata": {
        "id": "YHCb8Kk3c7-j",
        "colab_type": "code",
        "colab": {}
      },
      "source": [
        "from collections import defaultdict\n",
        "\n",
        "words,labels = load_file(train_file_name)\n",
        "words_dict = defaultdict(list)\n",
        "bad_words = []\n",
        "for word,label in zip(words,labels):\n",
        "  if word in words_dict and label not in words_dict[word]:\n",
        "    bad_words.append(word) \n",
        "  words_dict[word].append(label)\n",
        "\n",
        "print(bad_words)\n"
      ],
      "execution_count": 0,
      "outputs": []
    },
    {
      "cell_type": "markdown",
      "metadata": {
        "id": "fAowdwJVyQfl",
        "colab_type": "text"
      },
      "source": [
        "Q2. Document Classification\n"
      ]
    },
    {
      "cell_type": "markdown",
      "metadata": {
        "id": "2ifJ-1dzySAl",
        "colab_type": "text"
      },
      "source": [
        "Q2.1. Reuters Dataset\n"
      ]
    },
    {
      "cell_type": "markdown",
      "metadata": {
        "id": "KH6T8VKqyT3-",
        "colab_type": "text"
      },
      "source": [
        "2.1.1 Explore how many documents are in the dataset, how many categories, how many documents per categories, provide mean and standard deviation, min and max. (use the pandas library to explore the dataset, use the dataframe.describe() method.)\n"
      ]
    },
    {
      "cell_type": "markdown",
      "metadata": {
        "id": "-TbWM1S1yXGl",
        "colab_type": "text"
      },
      "source": [
        "**Answer :**\n",
        "-\n",
        "number of topics:  445\n",
        "number of documents:  19716\n",
        "                  \n",
        "count    445.000000\n",
        "mean      89.871910\n",
        "std      644.656909\n",
        "min        1.000000\n",
        "25%        3.000000\n",
        "50%        8.000000\n",
        "75%       37.000000\n",
        "max    12542.000000"
      ]
    },
    {
      "cell_type": "markdown",
      "metadata": {
        "id": "Gujs0P46FXB2",
        "colab_type": "text"
      },
      "source": [
        " \n",
        "count    445.000000\n",
        "mean      89.871910\n",
        "std      644.656909\n",
        "min        1.000000\n",
        "25%        3.000000\n",
        "50%        8.000000\n",
        "75%       37.000000\n",
        "max    12542.000000\n",
        "\n"
      ]
    },
    {
      "cell_type": "markdown",
      "metadata": {
        "id": "vqYiCOwmFOo5",
        "colab_type": "text"
      },
      "source": [
        "2.1.2 Explore how many characters and words are present in the documents of the dataset.\n"
      ]
    },
    {
      "cell_type": "markdown",
      "metadata": {
        "id": "t0rw6KSsGLsh",
        "colab_type": "text"
      },
      "source": [
        "*By exploring the dataset we looked at the body of the articles.\n",
        "\n",
        "\n",
        "total words: 2498237\n",
        "total chars: 15089138"
      ]
    },
    {
      "cell_type": "markdown",
      "metadata": {
        "id": "kxXnlQ50MPVq",
        "colab_type": "text"
      },
      "source": [
        "2.1.3 Explain informally what are the classifiers that support the \"partial-fit\" method discussed in the code."
      ]
    },
    {
      "cell_type": "markdown",
      "metadata": {
        "id": "krezwffeMVSo",
        "colab_type": "text"
      },
      "source": [
        "**SGDClassifier**: A linear classifier such as SVM or logistic regression that is trained with SGD algorithm, thus it can support training on mini-batches.\n",
        "\n",
        "**Perceptron**: A linear classifier which updates its weights iteratively for each example (batch of size 1)\n",
        "\n",
        "**NB Multinomial**: The multinomial Naive Bayes classifier is suitable for classification with discrete features (e.g., word counts for text classification). \n",
        "\n",
        "**Passive-Agressive**:  The name comes from the fact that we want to reduce loss quickly (aggressive) but we also do not want to overcorrect our weights (passive)."
      ]
    },
    {
      "cell_type": "markdown",
      "metadata": {
        "id": "A7X976LgQsMl",
        "colab_type": "text"
      },
      "source": [
        "2.1.4 Explain what is the hashing vectorizer used in this tutorial. Why is it important to use this vectorizer to achieve \"streaming classification\"?\n"
      ]
    },
    {
      "cell_type": "markdown",
      "metadata": {
        "id": "fibERQnSQwbY",
        "colab_type": "text"
      },
      "source": [
        ""
      ]
    },
    {
      "cell_type": "code",
      "metadata": {
        "id": "Bu48xvDbc058",
        "colab_type": "code",
        "outputId": "356c851c-fe8e-4f89-84b0-d158ac6c3f49",
        "colab": {
          "base_uri": "https://localhost:8080/",
          "height": 68
        }
      },
      "source": [
        "import nltk\n",
        "nltk.download('conll2002')"
      ],
      "execution_count": 3,
      "outputs": [
        {
          "output_type": "stream",
          "text": [
            "[nltk_data] Downloading package conll2002 to /root/nltk_data...\n",
            "[nltk_data]   Package conll2002 is already up-to-date!\n"
          ],
          "name": "stdout"
        },
        {
          "output_type": "execute_result",
          "data": {
            "text/plain": [
              "True"
            ]
          },
          "metadata": {
            "tags": []
          },
          "execution_count": 3
        }
      ]
    },
    {
      "cell_type": "code",
      "metadata": {
        "id": "seo6z_nGcujd",
        "colab_type": "code",
        "colab": {}
      },
      "source": [
        "from nltk.corpus import conll2002\n",
        "\n",
        "\n",
        "etr = list(conll2002.iob_sents('esp.train')) # In Spanish\n",
        "eta = list(conll2002.iob_sents('esp.testa')) # In Spanish\n",
        "etb = list(conll2002.iob_sents('esp.testb'))# In Spanish\n",
        "\n",
        "dtr = list(conll2002.iob_sents('ned.train')) # In Dutch\n",
        "dta = list(conll2002.iob_sents('ned.testa')) # In Dutch\n",
        "dtb = list(conll2002.iob_sents('ned.testb')) # In Dutch"
      ],
      "execution_count": 0,
      "outputs": []
    },
    {
      "cell_type": "code",
      "metadata": {
        "id": "yxOgN751dKOr",
        "colab_type": "code",
        "outputId": "d91174f9-98ce-4d72-8a0e-4b8f038dcd20",
        "colab": {
          "base_uri": "https://localhost:8080/",
          "height": 204
        }
      },
      "source": [
        "etr[0]"
      ],
      "execution_count": 5,
      "outputs": [
        {
          "output_type": "execute_result",
          "data": {
            "text/plain": [
              "[('Melbourne', 'NP', 'B-LOC'),\n",
              " ('(', 'Fpa', 'O'),\n",
              " ('Australia', 'NP', 'B-LOC'),\n",
              " (')', 'Fpt', 'O'),\n",
              " (',', 'Fc', 'O'),\n",
              " ('25', 'Z', 'O'),\n",
              " ('may', 'NC', 'O'),\n",
              " ('(', 'Fpa', 'O'),\n",
              " ('EFE', 'NC', 'B-ORG'),\n",
              " (')', 'Fpt', 'O'),\n",
              " ('.', 'Fp', 'O')]"
            ]
          },
          "metadata": {
            "tags": []
          },
          "execution_count": 5
        }
      ]
    },
    {
      "cell_type": "markdown",
      "metadata": {
        "id": "HF12CDbGhaUO",
        "colab_type": "text"
      },
      "source": [
        "3.1.2 Train the model using a logistic regression classifier and experiment with better features - looking at the tags of the previous word, the previous word and the following word (add padding words in the vectorizer)\n",
        "\n",
        "> Indented block\n",
        "\n"
      ]
    },
    {
      "cell_type": "code",
      "metadata": {
        "id": "XzU5j84VfMrW",
        "colab_type": "code",
        "colab": {}
      },
      "source": [
        "from urllib.parse import urlparse\n",
        "import string\n",
        "puncts = list(string.punctuation) + ['...']\n",
        "\n",
        "def get_ort(w):\n",
        "  if w.isdigit():\n",
        "    return 'number'\n",
        "  elif any([char.isdigit() for char in w]):\n",
        "    return 'contains-digit'\n",
        "  elif w in puncts:\n",
        "    return 'punctuation'\n",
        "  elif ('-' in w):\n",
        "    return 'contains-hyphen'\n",
        "  elif w.istitle():\n",
        "    return 'capitalized'\n",
        "  elif w.isupper():\n",
        "    return 'all-capitals'\n",
        "  elif (urlparse(w).scheme) and (urlparse(w).netloc):\n",
        "    return 'URL'\n",
        "  else:\n",
        "    return 'regular'\n",
        "\n",
        "def word2features(sent, i):\n",
        "    word = sent[i][0]\n",
        "    postag = sent[i][1]\n",
        "\n",
        "\n",
        "    features = {\n",
        "        'word-form': word.lower(),\n",
        "        'ORT': get_ort(word),\n",
        "        'POS': postag,\n",
        "        'suffix3' : word[-3:],\n",
        "        'suffix2' : word[-2:],\n",
        "        'suffix1': word[-1:],\n",
        "        'prefix3': word[:3],\n",
        "        'prefix2': word[:2],\n",
        "        'prefix1': word[:1],\n",
        "    }\n",
        "\n",
        "    return features\n",
        "\n",
        "\n",
        "\n",
        "def sent2features(sent,adder):\n",
        "    return [adder(word2features(sent, i),sent,i) for i in range(len(sent))]\n",
        "\n",
        "def sent2labels(sent):\n",
        "    return [label for token, postag, label in sent]\n",
        "\n",
        "def sent2tokens(sent):\n",
        "    return [token for token, postag, label in sent]    "
      ],
      "execution_count": 0,
      "outputs": []
    },
    {
      "cell_type": "code",
      "metadata": {
        "id": "Vw1qKu63iVUd",
        "colab_type": "code",
        "colab": {
          "base_uri": "https://localhost:8080/",
          "height": 34
        },
        "outputId": "78ab93e6-53a3-4ea4-a2be-817d95cebe04"
      },
      "source": [
        "expected = ['number',\n",
        " 'contains-digit',\n",
        " 'punctuation',\n",
        " 'contains-hyphen',\n",
        " 'all-capitals',\n",
        " 'capitalized',\n",
        " 'URL',\n",
        " 'regular']\n",
        "\n",
        "expected == [get_ort(w) for w in ['123','w1',',','hi-hi','SDA','Hello','http://www.google.com','just_word']]"
      ],
      "execution_count": 7,
      "outputs": [
        {
          "output_type": "execute_result",
          "data": {
            "text/plain": [
              "True"
            ]
          },
          "metadata": {
            "tags": []
          },
          "execution_count": 7
        }
      ]
    },
    {
      "cell_type": "code",
      "metadata": {
        "id": "ZDkf1Zk-oJx5",
        "colab_type": "code",
        "colab": {
          "base_uri": "https://localhost:8080/",
          "height": 122
        },
        "outputId": "91e931e1-ae47-436e-faaa-ea0e12c4ad61"
      },
      "source": [
        "sen_triplets = etr[100]\n",
        "print(' '.join([triplet[0] for triplet in sen_triplets]))\n",
        "print('-----------------')\n",
        "\n",
        "print(word2features(sen_triplets,0))\n",
        "print(\"---------------------\")\n",
        "sent2labels(sen_triplets)[0]"
      ],
      "execution_count": 8,
      "outputs": [
        {
          "output_type": "stream",
          "text": [
            "Imagínense ustedes que entre aquellos españoles , que fueron quienes llevaron a Europa esos dones americanos , se hubiera impuesto la patriotería gastronómica : patatas y tomates se hubieran quedado en curiosidades botánicas .\n",
            "-----------------\n",
            "{'word-form': 'imagínense', 'ORT': 'capitalized', 'POS': 'VMM', 'suffix3': 'nse', 'suffix2': 'se', 'suffix1': 'e', 'prefix3': 'Ima', 'prefix2': 'Im', 'prefix1': 'I'}\n",
            "---------------------\n"
          ],
          "name": "stdout"
        },
        {
          "output_type": "execute_result",
          "data": {
            "text/plain": [
              "'O'"
            ]
          },
          "metadata": {
            "tags": []
          },
          "execution_count": 8
        }
      ]
    },
    {
      "cell_type": "code",
      "metadata": {
        "id": "TNeoKcev2kQq",
        "colab_type": "code",
        "colab": {
          "base_uri": "https://localhost:8080/",
          "height": 34
        },
        "outputId": "0cf0a1a1-1853-415e-a65e-5084c7860526"
      },
      "source": [
        "from enum import Enum  \n",
        "sets = Enum('sets', ['tr_esp','v_esp','t_esp','tr_dut','v_dut','t_dut'], start=0)\n",
        "\n",
        "sets.t_dut.value"
      ],
      "execution_count": 9,
      "outputs": [
        {
          "output_type": "execute_result",
          "data": {
            "text/plain": [
              "5"
            ]
          },
          "metadata": {
            "tags": []
          },
          "execution_count": 9
        }
      ]
    },
    {
      "cell_type": "code",
      "metadata": {
        "id": "ijaSToCITX44",
        "colab_type": "code",
        "colab": {}
      },
      "source": [
        "\n",
        "#Identity - base features\n",
        "def add_features(features,sent,i):\n",
        "    return features\n",
        "\n",
        "#Adding prev-word,prev-pos.\n",
        "def add_features2(features,sent,i):\n",
        "    if i > 0:\n",
        "        word1 = sent[i-1][0]\n",
        "        postag1 = sent[i-1][1]\n",
        "        features.update({\n",
        "            'prev-word-form' : word1.lower(),\n",
        "            'prev-POS' : postag1,\n",
        "        })\n",
        "    else:\n",
        "        features.update({\n",
        "            'prev-word-form' : 'BOS',\n",
        "            'prev-POS' : '<PAD>',\n",
        "        })\n",
        "    return features\n",
        "\n",
        "#Only adding information on the previous word\n",
        "def add_features3(features,sent,i):\n",
        "    if i > 0:\n",
        "        word1 = sent[i-1][0]\n",
        "        postag1 = sent[i-1][1]\n",
        "        features.update({\n",
        "            'prev-word-form' : word1.lower(),\n",
        "            'prev-POS' : postag1,\n",
        "            'prev-ORT': get_ort(word1),\n",
        "            'prev-suffix3' : word1[-3:],\n",
        "            'prev-suffix2' : word1[-2:],\n",
        "            'prev-suffix1': word1[-1:],\n",
        "            'prev-prefix3': word1[:3],\n",
        "            'prev-prefix2': word1[:2],\n",
        "            'prev-prefix1': word1[:1],\n",
        "        })\n",
        "    else:\n",
        "        features.update({\n",
        "            'prev-word-form' : 'BOS',\n",
        "            'prev-POS' : '<PAD>',\n",
        "            'prev-ORT': '~',\n",
        "            'prev-suffix3' : '~',\n",
        "            'prev-suffix2' : '~',\n",
        "            'prev-suffix1': '~',\n",
        "            'prev-prefix3': '~',\n",
        "            'prev-prefix2': '~',\n",
        "            'prev-prefix1': '~',\n",
        "        })\n",
        "    return features\n",
        "\n",
        "#Adding information on the previous word\n",
        "#Plus adding information on the next word\n",
        "def add_features4(features,sent,i):\n",
        "    if i > 0:\n",
        "        word1 = sent[i-1][0]\n",
        "        postag1 = sent[i-1][1]\n",
        "        features.update({\n",
        "            'prev-word-form' : word1.lower(),\n",
        "            'prev-POS' : postag1,\n",
        "        })\n",
        "    else:\n",
        "        features.update({\n",
        "            'prev-word-form' : 'BOS',\n",
        "            'prev-POS' : '<PAD>',\n",
        "        })\n",
        "\n",
        "    if i < len(sent)-1:\n",
        "        word1 = sent[i+1][0]\n",
        "        postag1 = sent[i+1][1]\n",
        "        features.update({\n",
        "            'next-word-form' : word1.lower(),\n",
        "        })\n",
        "    else:\n",
        "        features.update({\n",
        "            'next-word-form': 'EOS'\n",
        "            })\n",
        "    return features\n",
        "\n",
        "\n",
        "def add_features5(features,sent,i):\n",
        "    if i > 0:\n",
        "        word1 = sent[i-1][0]\n",
        "        postag1 = sent[i-1][1]\n",
        "        features.update({\n",
        "            'prev-word-form' : word1.lower(),\n",
        "            'prev-POS' : postag1,\n",
        "            'prev-ORT': get_ort(word1),\n",
        "            'prev-suffix3' : word1[-3:],\n",
        "            'prev-suffix2' : word1[-2:],\n",
        "            'prev-suffix1': word1[-1:],\n",
        "            'prev-prefix3': word1[:3],\n",
        "            'prev-prefix2': word1[:2],\n",
        "            'prev-prefix1': word1[:1],\n",
        "        })\n",
        "    else:\n",
        "        features.update({\n",
        "            'prev-word-form' : 'BOS',\n",
        "            'prev-POS' : '<PAD>',\n",
        "            'prev-ORT': '~',\n",
        "            'prev-suffix3' : '~',\n",
        "            'prev-suffix2' : '~',\n",
        "            'prev-suffix1': '~',\n",
        "            'prev-prefix3': '~',\n",
        "            'prev-prefix2': '~',\n",
        "            'prev-prefix1': '~',\n",
        "        })\n",
        "\n",
        "\n",
        "      \n",
        "    if i < len(sent)-1:\n",
        "        word1 = sent[i+1][0]\n",
        "        postag1 = sent[i+1][1]\n",
        "        features.update({\n",
        "            'next-word-form' : word1.lower(),\n",
        "        })\n",
        "    else:\n",
        "        features.update({\n",
        "            'next-word-form': 'EOS'\n",
        "            })\n",
        "    return features\n",
        "\n",
        "\n",
        "\n",
        "\n"
      ],
      "execution_count": 0,
      "outputs": []
    },
    {
      "cell_type": "code",
      "metadata": {
        "id": "00gwOdXCdj2S",
        "colab_type": "code",
        "colab": {}
      },
      "source": [
        "\n",
        "from functools import reduce\n",
        "flatten = lambda l: reduce(lambda x,y: x+y,l)\n",
        "\n",
        "\n",
        "\n",
        "data_set = [etr,eta,etb]\n",
        "\n",
        "add_funcs = [add_features,add_features2,add_features3,add_features4,add_features5]\n",
        "\n",
        "y_data_set = list(map(lambda x: flatten([sent2labels(s) for s in x]),data_set))\n",
        "\n",
        "\n",
        "xtr_xv_xt = []\n",
        "\n",
        "\n",
        "for func in add_funcs:\n",
        "  x_data_set = list(map(lambda x: flatten([sent2features(s,func) for s in x]),data_set))\n",
        "  X_train_esp = x_data_set[sets.tr_esp.value]\n",
        "  X_valid_esp = x_data_set[sets.v_esp.value]\n",
        "  X_test_esp = x_data_set[sets.t_esp.value]\n",
        "  xtr_xv_xt.append((X_train_esp,X_valid_esp,X_test_esp))\n",
        "\n",
        "\n",
        "y_train_esp = y_data_set[sets.tr_esp.value]\n",
        "y_valid_esp = y_data_set[sets.v_esp.value]\n",
        "y_test_esp = y_data_set[sets.t_esp.value]\n",
        "\n",
        "\n"
      ],
      "execution_count": 0,
      "outputs": []
    },
    {
      "cell_type": "code",
      "metadata": {
        "id": "SWnWb9dVcbc-",
        "colab_type": "code",
        "colab": {
          "base_uri": "https://localhost:8080/",
          "height": 170
        },
        "outputId": "8008f31c-3d42-4dc8-81e5-274d37039f73"
      },
      "source": [
        "xtr,xv,xt = xtr_xv_xt[0]\n",
        "xtr[0]"
      ],
      "execution_count": 12,
      "outputs": [
        {
          "output_type": "execute_result",
          "data": {
            "text/plain": [
              "{'ORT': 'capitalized',\n",
              " 'POS': 'NP',\n",
              " 'prefix1': 'M',\n",
              " 'prefix2': 'Me',\n",
              " 'prefix3': 'Mel',\n",
              " 'suffix1': 'e',\n",
              " 'suffix2': 'ne',\n",
              " 'suffix3': 'rne',\n",
              " 'word-form': 'melbourne'}"
            ]
          },
          "metadata": {
            "tags": []
          },
          "execution_count": 12
        }
      ]
    },
    {
      "cell_type": "code",
      "metadata": {
        "id": "BVeYFErYgktw",
        "colab_type": "code",
        "colab": {
          "base_uri": "https://localhost:8080/",
          "height": 782
        },
        "outputId": "ee30dd5a-9cfd-4afb-b45f-dc82ca56cf99"
      },
      "source": [
        "from sklearn.linear_model import LogisticRegression\n",
        "from sklearn.feature_extraction import DictVectorizer\n",
        "regressors = []\n",
        "vectorizers = []\n",
        "\n",
        "for xtr, xv, xt in xtr_xv_xt:\n",
        "  v = DictVectorizer(sparse=True)\n",
        "  X = v.fit_transform(xtr)\n",
        "  Y = y_train_esp\n",
        "  try:\n",
        "    clf = LogisticRegression(random_state=0,max_iter=200).fit(X, Y)\n",
        "  except Exception as e:\n",
        "    print(e)\n",
        "    continue\n",
        "  vectorizers.append(v)\n",
        "  regressors.append(clf)\n",
        "  print(\"Predicted:\",clf.predict(X[0]))\n",
        "\n"
      ],
      "execution_count": 13,
      "outputs": [
        {
          "output_type": "stream",
          "text": [
            "/usr/local/lib/python3.6/dist-packages/sklearn/linear_model/_logistic.py:940: ConvergenceWarning: lbfgs failed to converge (status=1):\n",
            "STOP: TOTAL NO. of ITERATIONS REACHED LIMIT.\n",
            "\n",
            "Increase the number of iterations (max_iter) or scale the data as shown in:\n",
            "    https://scikit-learn.org/stable/modules/preprocessing.html\n",
            "Please also refer to the documentation for alternative solver options:\n",
            "    https://scikit-learn.org/stable/modules/linear_model.html#logistic-regression\n",
            "  extra_warning_msg=_LOGISTIC_SOLVER_CONVERGENCE_MSG)\n"
          ],
          "name": "stderr"
        },
        {
          "output_type": "stream",
          "text": [
            "Predicted: ['B-LOC']\n"
          ],
          "name": "stdout"
        },
        {
          "output_type": "stream",
          "text": [
            "/usr/local/lib/python3.6/dist-packages/sklearn/linear_model/_logistic.py:940: ConvergenceWarning: lbfgs failed to converge (status=1):\n",
            "STOP: TOTAL NO. of ITERATIONS REACHED LIMIT.\n",
            "\n",
            "Increase the number of iterations (max_iter) or scale the data as shown in:\n",
            "    https://scikit-learn.org/stable/modules/preprocessing.html\n",
            "Please also refer to the documentation for alternative solver options:\n",
            "    https://scikit-learn.org/stable/modules/linear_model.html#logistic-regression\n",
            "  extra_warning_msg=_LOGISTIC_SOLVER_CONVERGENCE_MSG)\n"
          ],
          "name": "stderr"
        },
        {
          "output_type": "stream",
          "text": [
            "Predicted: ['B-LOC']\n"
          ],
          "name": "stdout"
        },
        {
          "output_type": "stream",
          "text": [
            "/usr/local/lib/python3.6/dist-packages/sklearn/linear_model/_logistic.py:940: ConvergenceWarning: lbfgs failed to converge (status=1):\n",
            "STOP: TOTAL NO. of ITERATIONS REACHED LIMIT.\n",
            "\n",
            "Increase the number of iterations (max_iter) or scale the data as shown in:\n",
            "    https://scikit-learn.org/stable/modules/preprocessing.html\n",
            "Please also refer to the documentation for alternative solver options:\n",
            "    https://scikit-learn.org/stable/modules/linear_model.html#logistic-regression\n",
            "  extra_warning_msg=_LOGISTIC_SOLVER_CONVERGENCE_MSG)\n"
          ],
          "name": "stderr"
        },
        {
          "output_type": "stream",
          "text": [
            "Predicted: ['B-LOC']\n"
          ],
          "name": "stdout"
        },
        {
          "output_type": "stream",
          "text": [
            "/usr/local/lib/python3.6/dist-packages/sklearn/linear_model/_logistic.py:940: ConvergenceWarning: lbfgs failed to converge (status=1):\n",
            "STOP: TOTAL NO. of ITERATIONS REACHED LIMIT.\n",
            "\n",
            "Increase the number of iterations (max_iter) or scale the data as shown in:\n",
            "    https://scikit-learn.org/stable/modules/preprocessing.html\n",
            "Please also refer to the documentation for alternative solver options:\n",
            "    https://scikit-learn.org/stable/modules/linear_model.html#logistic-regression\n",
            "  extra_warning_msg=_LOGISTIC_SOLVER_CONVERGENCE_MSG)\n"
          ],
          "name": "stderr"
        },
        {
          "output_type": "stream",
          "text": [
            "Predicted: ['B-LOC']\n",
            "Predicted: ['B-LOC']\n"
          ],
          "name": "stdout"
        },
        {
          "output_type": "stream",
          "text": [
            "/usr/local/lib/python3.6/dist-packages/sklearn/linear_model/_logistic.py:940: ConvergenceWarning: lbfgs failed to converge (status=1):\n",
            "STOP: TOTAL NO. of ITERATIONS REACHED LIMIT.\n",
            "\n",
            "Increase the number of iterations (max_iter) or scale the data as shown in:\n",
            "    https://scikit-learn.org/stable/modules/preprocessing.html\n",
            "Please also refer to the documentation for alternative solver options:\n",
            "    https://scikit-learn.org/stable/modules/linear_model.html#logistic-regression\n",
            "  extra_warning_msg=_LOGISTIC_SOLVER_CONVERGENCE_MSG)\n"
          ],
          "name": "stderr"
        }
      ]
    },
    {
      "cell_type": "code",
      "metadata": {
        "id": "4S7E7a4Z_9my",
        "colab_type": "code",
        "colab": {}
      },
      "source": [
        "\n",
        "import numpy as np\n",
        "import matplotlib.pyplot as plt\n",
        "\n",
        "from sklearn import svm, datasets\n",
        "from sklearn.model_selection import train_test_split\n",
        "from sklearn.metrics import plot_confusion_matrix\n",
        "from sklearn.metrics import precision_recall_fscore_support\n",
        "\n",
        "def plot_conf_mat(clf,X,Y):\n",
        "  np.set_printoptions(precision=2)\n",
        "  titles_options = [(\"Normalized confusion matrix\", 'true')]\n",
        "  for title, normalize in titles_options:\n",
        "      disp = plot_confusion_matrix(clf, X, Y,\n",
        "                                  display_labels=clf.classes_,\n",
        "                                  cmap=plt.cm.Blues,\n",
        "                                  normalize='true')\n",
        "      disp.ax_.set_title(title)\n",
        "      print(title)\n",
        "  plt.show()\n",
        "\n",
        "def plot_prec_recall_fmeasure(clf,X,Y):\n",
        "  y_pred = np.array([clf.predict(x) for x in X])\n",
        "  y_true = np.array(Y)\n",
        "  print(precision_recall_fscore_support(y_true, y_pred, average='macro'))"
      ],
      "execution_count": 0,
      "outputs": []
    },
    {
      "cell_type": "code",
      "metadata": {
        "id": "APHUqHcvioo_",
        "colab_type": "code",
        "colab": {
          "base_uri": "https://localhost:8080/",
          "height": 340
        },
        "outputId": "95b0d5b3-86c4-4b37-e9b9-42a5c9f96e32"
      },
      "source": [
        "  vec_t = vectorizers[0]\n",
        "  xsd = vec_t.transform(xtr_xv_xt[0][0])\n",
        "  plot_confusion_matrix(regressors[0],xsd,y_test_esp)"
      ],
      "execution_count": 16,
      "outputs": [
        {
          "output_type": "error",
          "ename": "ValueError",
          "evalue": "ignored",
          "traceback": [
            "\u001b[0;31m---------------------------------------------------------------------------\u001b[0m",
            "\u001b[0;31mValueError\u001b[0m                                Traceback (most recent call last)",
            "\u001b[0;32m<ipython-input-16-a51699e871d5>\u001b[0m in \u001b[0;36m<module>\u001b[0;34m()\u001b[0m\n\u001b[1;32m      1\u001b[0m \u001b[0mvec_t\u001b[0m \u001b[0;34m=\u001b[0m \u001b[0mvectorizers\u001b[0m\u001b[0;34m[\u001b[0m\u001b[0;36m0\u001b[0m\u001b[0;34m]\u001b[0m\u001b[0;34m\u001b[0m\u001b[0;34m\u001b[0m\u001b[0m\n\u001b[1;32m      2\u001b[0m \u001b[0mxsd\u001b[0m \u001b[0;34m=\u001b[0m \u001b[0mvec_t\u001b[0m\u001b[0;34m.\u001b[0m\u001b[0mtransform\u001b[0m\u001b[0;34m(\u001b[0m\u001b[0mxtr_xv_xt\u001b[0m\u001b[0;34m[\u001b[0m\u001b[0;36m0\u001b[0m\u001b[0;34m]\u001b[0m\u001b[0;34m[\u001b[0m\u001b[0;36m0\u001b[0m\u001b[0;34m]\u001b[0m\u001b[0;34m)\u001b[0m\u001b[0;34m\u001b[0m\u001b[0;34m\u001b[0m\u001b[0m\n\u001b[0;32m----> 3\u001b[0;31m \u001b[0mplot_confusion_matrix\u001b[0m\u001b[0;34m(\u001b[0m\u001b[0mregressors\u001b[0m\u001b[0;34m[\u001b[0m\u001b[0;36m0\u001b[0m\u001b[0;34m]\u001b[0m\u001b[0;34m,\u001b[0m\u001b[0mxsd\u001b[0m\u001b[0;34m,\u001b[0m\u001b[0my_test_esp\u001b[0m\u001b[0;34m)\u001b[0m\u001b[0;34m\u001b[0m\u001b[0;34m\u001b[0m\u001b[0m\n\u001b[0m",
            "\u001b[0;32m/usr/local/lib/python3.6/dist-packages/sklearn/metrics/_plot/confusion_matrix.py\u001b[0m in \u001b[0;36mplot_confusion_matrix\u001b[0;34m(estimator, X, y_true, labels, sample_weight, normalize, display_labels, include_values, xticks_rotation, values_format, cmap, ax)\u001b[0m\n\u001b[1;32m    185\u001b[0m     \u001b[0my_pred\u001b[0m \u001b[0;34m=\u001b[0m \u001b[0mestimator\u001b[0m\u001b[0;34m.\u001b[0m\u001b[0mpredict\u001b[0m\u001b[0;34m(\u001b[0m\u001b[0mX\u001b[0m\u001b[0;34m)\u001b[0m\u001b[0;34m\u001b[0m\u001b[0;34m\u001b[0m\u001b[0m\n\u001b[1;32m    186\u001b[0m     cm = confusion_matrix(y_true, y_pred, sample_weight=sample_weight,\n\u001b[0;32m--> 187\u001b[0;31m                           labels=labels, normalize=normalize)\n\u001b[0m\u001b[1;32m    188\u001b[0m \u001b[0;34m\u001b[0m\u001b[0m\n\u001b[1;32m    189\u001b[0m     \u001b[0;32mif\u001b[0m \u001b[0mdisplay_labels\u001b[0m \u001b[0;32mis\u001b[0m \u001b[0;32mNone\u001b[0m\u001b[0;34m:\u001b[0m\u001b[0;34m\u001b[0m\u001b[0;34m\u001b[0m\u001b[0m\n",
            "\u001b[0;32m/usr/local/lib/python3.6/dist-packages/sklearn/metrics/_classification.py\u001b[0m in \u001b[0;36mconfusion_matrix\u001b[0;34m(y_true, y_pred, labels, sample_weight, normalize)\u001b[0m\n\u001b[1;32m    266\u001b[0m \u001b[0;34m\u001b[0m\u001b[0m\n\u001b[1;32m    267\u001b[0m     \"\"\"\n\u001b[0;32m--> 268\u001b[0;31m     \u001b[0my_type\u001b[0m\u001b[0;34m,\u001b[0m \u001b[0my_true\u001b[0m\u001b[0;34m,\u001b[0m \u001b[0my_pred\u001b[0m \u001b[0;34m=\u001b[0m \u001b[0m_check_targets\u001b[0m\u001b[0;34m(\u001b[0m\u001b[0my_true\u001b[0m\u001b[0;34m,\u001b[0m \u001b[0my_pred\u001b[0m\u001b[0;34m)\u001b[0m\u001b[0;34m\u001b[0m\u001b[0;34m\u001b[0m\u001b[0m\n\u001b[0m\u001b[1;32m    269\u001b[0m     \u001b[0;32mif\u001b[0m \u001b[0my_type\u001b[0m \u001b[0;32mnot\u001b[0m \u001b[0;32min\u001b[0m \u001b[0;34m(\u001b[0m\u001b[0;34m\"binary\"\u001b[0m\u001b[0;34m,\u001b[0m \u001b[0;34m\"multiclass\"\u001b[0m\u001b[0;34m)\u001b[0m\u001b[0;34m:\u001b[0m\u001b[0;34m\u001b[0m\u001b[0;34m\u001b[0m\u001b[0m\n\u001b[1;32m    270\u001b[0m         \u001b[0;32mraise\u001b[0m \u001b[0mValueError\u001b[0m\u001b[0;34m(\u001b[0m\u001b[0;34m\"%s is not supported\"\u001b[0m \u001b[0;34m%\u001b[0m \u001b[0my_type\u001b[0m\u001b[0;34m)\u001b[0m\u001b[0;34m\u001b[0m\u001b[0;34m\u001b[0m\u001b[0m\n",
            "\u001b[0;32m/usr/local/lib/python3.6/dist-packages/sklearn/metrics/_classification.py\u001b[0m in \u001b[0;36m_check_targets\u001b[0;34m(y_true, y_pred)\u001b[0m\n\u001b[1;32m     78\u001b[0m     \u001b[0my_pred\u001b[0m \u001b[0;34m:\u001b[0m \u001b[0marray\u001b[0m \u001b[0;32mor\u001b[0m \u001b[0mindicator\u001b[0m \u001b[0mmatrix\u001b[0m\u001b[0;34m\u001b[0m\u001b[0;34m\u001b[0m\u001b[0m\n\u001b[1;32m     79\u001b[0m     \"\"\"\n\u001b[0;32m---> 80\u001b[0;31m     \u001b[0mcheck_consistent_length\u001b[0m\u001b[0;34m(\u001b[0m\u001b[0my_true\u001b[0m\u001b[0;34m,\u001b[0m \u001b[0my_pred\u001b[0m\u001b[0;34m)\u001b[0m\u001b[0;34m\u001b[0m\u001b[0;34m\u001b[0m\u001b[0m\n\u001b[0m\u001b[1;32m     81\u001b[0m     \u001b[0mtype_true\u001b[0m \u001b[0;34m=\u001b[0m \u001b[0mtype_of_target\u001b[0m\u001b[0;34m(\u001b[0m\u001b[0my_true\u001b[0m\u001b[0;34m)\u001b[0m\u001b[0;34m\u001b[0m\u001b[0;34m\u001b[0m\u001b[0m\n\u001b[1;32m     82\u001b[0m     \u001b[0mtype_pred\u001b[0m \u001b[0;34m=\u001b[0m \u001b[0mtype_of_target\u001b[0m\u001b[0;34m(\u001b[0m\u001b[0my_pred\u001b[0m\u001b[0;34m)\u001b[0m\u001b[0;34m\u001b[0m\u001b[0;34m\u001b[0m\u001b[0m\n",
            "\u001b[0;32m/usr/local/lib/python3.6/dist-packages/sklearn/utils/validation.py\u001b[0m in \u001b[0;36mcheck_consistent_length\u001b[0;34m(*arrays)\u001b[0m\n\u001b[1;32m    210\u001b[0m     \u001b[0;32mif\u001b[0m \u001b[0mlen\u001b[0m\u001b[0;34m(\u001b[0m\u001b[0muniques\u001b[0m\u001b[0;34m)\u001b[0m \u001b[0;34m>\u001b[0m \u001b[0;36m1\u001b[0m\u001b[0;34m:\u001b[0m\u001b[0;34m\u001b[0m\u001b[0;34m\u001b[0m\u001b[0m\n\u001b[1;32m    211\u001b[0m         raise ValueError(\"Found input variables with inconsistent numbers of\"\n\u001b[0;32m--> 212\u001b[0;31m                          \" samples: %r\" % [int(l) for l in lengths])\n\u001b[0m\u001b[1;32m    213\u001b[0m \u001b[0;34m\u001b[0m\u001b[0m\n\u001b[1;32m    214\u001b[0m \u001b[0;34m\u001b[0m\u001b[0m\n",
            "\u001b[0;31mValueError\u001b[0m: Found input variables with inconsistent numbers of samples: [51533, 264715]"
          ]
        }
      ]
    },
    {
      "cell_type": "code",
      "metadata": {
        "id": "LB06nqFVMosU",
        "colab_type": "code",
        "colab": {
          "base_uri": "https://localhost:8080/",
          "height": 1000
        },
        "outputId": "934092b0-0885-4a2f-f81d-6e35a23e44a5"
      },
      "source": [
        "\n",
        "for i, (xtr, xv, xt) in enumerate(xtr_xv_xt):\n",
        "  v = vectorizers[i]\n",
        "  clf = regressors[i]\n",
        "  X = v.transform(xv)\n",
        "  plot_confusion_matrix(clf,X,y_valid_esp)\n",
        "  plot_prec_recall_fmeasure(clf,X,y_valid_esp)"
      ],
      "execution_count": 15,
      "outputs": [
        {
          "output_type": "stream",
          "text": [
            "(0.6357606937753099, 0.5534568625163332, 0.5757265297673584, None)\n",
            "(0.7095743918121802, 0.644892603933354, 0.6667976333902809, None)\n",
            "(0.735104790578652, 0.6900717204233757, 0.707412139018423, None)\n",
            "(0.7167309425746171, 0.6524462308913921, 0.6752992699796487, None)\n",
            "(0.7410270667689048, 0.6960736502200778, 0.7131931717396419, None)\n"
          ],
          "name": "stdout"
        },
        {
          "output_type": "display_data",
          "data": {
            "image/png": "[encoded data removed]",
            "text/plain": [
              "<Figure size 432x288 with 2 Axes>"
            ]
          },
          "metadata": {
            "tags": []
          }
        },
        {
          "output_type": "display_data",
          "data": {
            "image/png": "[encoded data removed]",
            "text/plain": [
              "<Figure size 432x288 with 2 Axes>"
            ]
          },
          "metadata": {
            "tags": []
          }
        },
        {
          "output_type": "display_data",
          "data": {
            "image/png": "[encoded data removed]",
            "text/plain": [
              "<Figure size 432x288 with 2 Axes>"
            ]
          },
          "metadata": {
            "tags": []
          }
        },
        {
          "output_type": "display_data",
          "data": {
            "image/png": "[encoded data removed]",
            "text/plain": [
              "<Figure size 432x288 with 2 Axes>"
            ]
          },
          "metadata": {
            "tags": []
          }
        },
        {
          "output_type": "display_data",
          "data": {
            "image/png": "[encoded data removed]",
            "text/plain": [
              "<Figure size 432x288 with 2 Axes>"
            ]
          },
          "metadata": {
            "tags": []
          }
        }
      ]
    },
    {
      "cell_type": "code",
      "metadata": {
        "id": "A0IKIxlqhM75",
        "colab_type": "code",
        "colab": {}
      },
      "source": [
        "#ADD the best model with all the stuff"
      ],
      "execution_count": 0,
      "outputs": []
    },
    {
      "cell_type": "markdown",
      "metadata": {
        "id": "KZmKbQtXjfLT",
        "colab_type": "text"
      },
      "source": [
        "3.1.3"
      ]
    },
    {
      "cell_type": "code",
      "metadata": {
        "id": "ZlLEyxVhjeMe",
        "colab_type": "code",
        "colab": {}
      },
      "source": [
        "def is_o_ix(w1,w2):\n",
        "  return w1[0] == 'O' and w2[0] == 'I'\n",
        "def is_ix_iy(w1,w2):\n",
        "  return w1[:2] != w2[:2]\n",
        "def is_bx_iy(w1,w2):\n",
        "  return w1[0] == 'B' and w2[0] == 'I' and w1[:2] != w2[:2]\n",
        "\n",
        "def transform_predict(vectorizer,clf,w_dict):\n",
        "  w = vectorizer.transform(w_dict)\n",
        "  return clf.predict(w)\n",
        "\n",
        "def sen_to_predicts(vectorizer,clf,sen,adder):\n",
        "  return [clf.transform_predict(w_dict) for w_dict in sent2features(sen,adder)]\n",
        "\n",
        "#Get the raw data X, trained regressor, vectorizer used for the features, adder used for the features.\n",
        "def bad_BIO_tags(clf,X,vectorizer,adder):\n",
        "  sents_pred = [sen_to_predicts(vectorizer,clf,sen,adder) for sen in X]\n",
        "  cts = {\n",
        "    \"cOIX\": 0\n",
        "    \"cIXIY\": 0\n",
        "    \"cBXIY\": 0\n",
        "  }\n",
        "  for sen in sents_pred:\n",
        "    cOIX = 0\n",
        "    cIXIY = 0\n",
        "    cBXIY = 0\n",
        "    for w1,w2 in zip(sen,sen[1:]):\n",
        "      if is_o_ix(w1,w2):\n",
        "        cIOX+=1\n",
        "      elif is_ix_iy(w1,w2):\n",
        "        cIXIY+=1\n",
        "      elif is_bx_iy(w1,w2):\n",
        "        cBXIY+=1\n",
        "    cts[\"cOIX\"] += (cIOX /len(sen))\n",
        "    cts[\"cIXIY\"] += (cIXIY /len(sen))\n",
        "    cts[\"cBXIY\"] += (cBXIY /len(sen))\n",
        "\n",
        " for key,val in cts:\n",
        "   cts[key] = cts[key]/len(sents_pred)\n",
        "\n",
        "  return cts\n",
        "\n"
      ],
      "execution_count": 0,
      "outputs": []
    },
    {
      "cell_type": "code",
      "metadata": {
        "id": "EkhzGbJeox4Z",
        "colab_type": "code",
        "colab": {
          "base_uri": "https://localhost:8080/",
          "height": 258
        },
        "outputId": "6a4eb9be-3e5c-4f14-898a-804eec676b02"
      },
      "source": [
        "!pip install fasttext"
      ],
      "execution_count": 42,
      "outputs": [
        {
          "output_type": "stream",
          "text": [
            "Collecting fasttext\n",
            "\u001b[?25l  Downloading https://files.pythonhosted.org/packages/10/61/2e01f1397ec533756c1d893c22d9d5ed3fce3a6e4af1976e0d86bb13ea97/fasttext-0.9.1.tar.gz (57kB)\n",
            "\r\u001b[K     |█████▊                          | 10kB 18.6MB/s eta 0:00:01\r\u001b[K     |███████████▍                    | 20kB 1.8MB/s eta 0:00:01\r\u001b[K     |█████████████████               | 30kB 2.2MB/s eta 0:00:01\r\u001b[K     |██████████████████████▊         | 40kB 1.7MB/s eta 0:00:01\r\u001b[K     |████████████████████████████▍   | 51kB 2.0MB/s eta 0:00:01\r\u001b[K     |████████████████████████████████| 61kB 1.9MB/s \n",
            "\u001b[?25hRequirement already satisfied: pybind11>=2.2 in /usr/local/lib/python3.6/dist-packages (from fasttext) (2.4.3)\n",
            "Requirement already satisfied: setuptools>=0.7.0 in /usr/local/lib/python3.6/dist-packages (from fasttext) (42.0.2)\n",
            "Requirement already satisfied: numpy in /usr/local/lib/python3.6/dist-packages (from fasttext) (1.17.5)\n",
            "Building wheels for collected packages: fasttext\n",
            "  Building wheel for fasttext (setup.py) ... \u001b[?25l\u001b[?25hdone\n",
            "  Created wheel for fasttext: filename=fasttext-0.9.1-cp36-cp36m-linux_x86_64.whl size=2385495 sha256=68166b96429109fcf4f03e2b46e45d4d6f7443aa08bec7c6796dd1941e1e2fce\n",
            "  Stored in directory: /root/.cache/pip/wheels/9f/f0/04/caa82c912aee89ce76358ff954f3f0729b7577c8ff23a292e3\n",
            "Successfully built fasttext\n",
            "Installing collected packages: fasttext\n",
            "Successfully installed fasttext-0.9.1\n"
          ],
          "name": "stdout"
        }
      ]
    },
    {
      "cell_type": "code",
      "metadata": {
        "id": "xsM1WKLgrg26",
        "colab_type": "code",
        "colab": {
          "base_uri": "https://localhost:8080/",
          "height": 326
        },
        "outputId": "2f0b46c4-a022-4bfe-e90a-56a7356e7e37"
      },
      "source": [
        "pip install gensim"
      ],
      "execution_count": 48,
      "outputs": [
        {
          "output_type": "stream",
          "text": [
            "Requirement already satisfied: gensim in /usr/local/lib/python3.6/dist-packages (3.6.0)\n",
            "Requirement already satisfied: scipy>=0.18.1 in /usr/local/lib/python3.6/dist-packages (from gensim) (1.4.1)\n",
            "Requirement already satisfied: numpy>=1.11.3 in /usr/local/lib/python3.6/dist-packages (from gensim) (1.17.5)\n",
            "Requirement already satisfied: smart-open>=1.2.1 in /usr/local/lib/python3.6/dist-packages (from gensim) (1.9.0)\n",
            "Requirement already satisfied: six>=1.5.0 in /usr/local/lib/python3.6/dist-packages (from gensim) (1.12.0)\n",
            "Requirement already satisfied: requests in /usr/local/lib/python3.6/dist-packages (from smart-open>=1.2.1->gensim) (2.21.0)\n",
            "Requirement already satisfied: boto3 in /usr/local/lib/python3.6/dist-packages (from smart-open>=1.2.1->gensim) (1.10.47)\n",
            "Requirement already satisfied: boto>=2.32 in /usr/local/lib/python3.6/dist-packages (from smart-open>=1.2.1->gensim) (2.49.0)\n",
            "Requirement already satisfied: idna<2.9,>=2.5 in /usr/local/lib/python3.6/dist-packages (from requests->smart-open>=1.2.1->gensim) (2.8)\n",
            "Requirement already satisfied: urllib3<1.25,>=1.21.1 in /usr/local/lib/python3.6/dist-packages (from requests->smart-open>=1.2.1->gensim) (1.24.3)\n",
            "Requirement already satisfied: chardet<3.1.0,>=3.0.2 in /usr/local/lib/python3.6/dist-packages (from requests->smart-open>=1.2.1->gensim) (3.0.4)\n",
            "Requirement already satisfied: certifi>=2017.4.17 in /usr/local/lib/python3.6/dist-packages (from requests->smart-open>=1.2.1->gensim) (2019.11.28)\n",
            "Requirement already satisfied: s3transfer<0.3.0,>=0.2.0 in /usr/local/lib/python3.6/dist-packages (from boto3->smart-open>=1.2.1->gensim) (0.2.1)\n",
            "Requirement already satisfied: jmespath<1.0.0,>=0.7.1 in /usr/local/lib/python3.6/dist-packages (from boto3->smart-open>=1.2.1->gensim) (0.9.4)\n",
            "Requirement already satisfied: botocore<1.14.0,>=1.13.47 in /usr/local/lib/python3.6/dist-packages (from boto3->smart-open>=1.2.1->gensim) (1.13.47)\n",
            "Requirement already satisfied: python-dateutil<3.0.0,>=2.1; python_version >= \"2.7\" in /usr/local/lib/python3.6/dist-packages (from botocore<1.14.0,>=1.13.47->boto3->smart-open>=1.2.1->gensim) (2.6.1)\n",
            "Requirement already satisfied: docutils<0.16,>=0.10 in /usr/local/lib/python3.6/dist-packages (from botocore<1.14.0,>=1.13.47->boto3->smart-open>=1.2.1->gensim) (0.15.2)\n"
          ],
          "name": "stdout"
        }
      ]
    },
    {
      "cell_type": "code",
      "metadata": {
        "id": "4RI-KpWmtXVW",
        "colab_type": "code",
        "colab": {
          "base_uri": "https://localhost:8080/",
          "height": 272
        },
        "outputId": "25fd9e5a-0559-4f0b-ed95-69ab13860fcf"
      },
      "source": [
        "!wget http://cs.famaf.unc.edu.ar/~ccardellino/SBWCE/SBW-vectors-300-min5.bin.gz"
      ],
      "execution_count": 56,
      "outputs": [
        {
          "output_type": "stream",
          "text": [
            "--2020-01-16 18:55:08--  http://cs.famaf.unc.edu.ar/~ccardellino/SBWCE/SBW-vectors-300-min5.bin.gz\n",
            "Resolving cs.famaf.unc.edu.ar (cs.famaf.unc.edu.ar)... 200.16.17.55\n",
            "Connecting to cs.famaf.unc.edu.ar (cs.famaf.unc.edu.ar)|200.16.17.55|:80... connected.\n",
            "HTTP request sent, awaiting response... 302 Found\n",
            "Location: https://cs.famaf.unc.edu.ar/~ccardellino/SBWCE/SBW-vectors-300-min5.bin.gz [following]\n",
            "--2020-01-16 18:55:09--  https://cs.famaf.unc.edu.ar/~ccardellino/SBWCE/SBW-vectors-300-min5.bin.gz\n",
            "Connecting to cs.famaf.unc.edu.ar (cs.famaf.unc.edu.ar)|200.16.17.55|:443... connected.\n",
            "HTTP request sent, awaiting response... 200 OK\n",
            "Length: 1123304474 (1.0G) [application/x-gzip]\n",
            "Saving to: ‘SBW-vectors-300-min5.bin.gz’\n",
            "\n",
            "SBW-vectors-300-min 100%[===================>]   1.05G  17.8MB/s    in 62s     \n",
            "\n",
            "2020-01-16 18:56:12 (17.2 MB/s) - ‘SBW-vectors-300-min5.bin.gz’ saved [1123304474/1123304474]\n",
            "\n"
          ],
          "name": "stdout"
        }
      ]
    },
    {
      "cell_type": "code",
      "metadata": {
        "id": "_BYfnmw4ttlZ",
        "colab_type": "code",
        "colab": {}
      },
      "source": [
        "!gunzip  SBW-vectors-300-min5.bin.gz\n",
        "#download word2vec embedding"
      ],
      "execution_count": 0,
      "outputs": []
    },
    {
      "cell_type": "code",
      "metadata": {
        "id": "WsUJEZOAu6s9",
        "colab_type": "code",
        "colab": {
          "base_uri": "https://localhost:8080/",
          "height": 34
        },
        "outputId": "dc78ad07-370a-4bff-d906-684738c616b5"
      },
      "source": [
        "!ls"
      ],
      "execution_count": 62,
      "outputs": [
        {
          "output_type": "stream",
          "text": [
            "sample_data  SBW-vectors-300-min5.bin\n"
          ],
          "name": "stdout"
        }
      ]
    },
    {
      "cell_type": "code",
      "metadata": {
        "id": "1Yrc5hCzttsv",
        "colab_type": "code",
        "colab": {
          "base_uri": "https://localhost:8080/",
          "height": 71
        },
        "outputId": "8c77ca12-70c3-41e6-a1bd-cfd8ac4c76a8"
      },
      "source": [
        "from gensim.models import Word2Vec,KeyedVectors\n",
        "\n",
        "word_vectors = KeyedVectors.load_word2vec_format('SBW-vectors-300-min5.bin',binary=True)"
      ],
      "execution_count": 65,
      "outputs": [
        {
          "output_type": "stream",
          "text": [
            "/usr/local/lib/python3.6/dist-packages/smart_open/smart_open_lib.py:402: UserWarning: This function is deprecated, use smart_open.open instead. See the migration notes for details: https://github.com/RaRe-Technologies/smart_open/blob/master/README.rst#migrating-to-the-new-open-function\n",
            "  'See the migration notes for details: %s' % _MIGRATION_NOTES_URL\n"
          ],
          "name": "stderr"
        }
      ]
    },
    {
      "cell_type": "code",
      "metadata": {
        "id": "Ias19__tvUUt",
        "colab_type": "code",
        "colab": {
          "base_uri": "https://localhost:8080/",
          "height": 34
        },
        "outputId": "60ad3aa4-3ebd-4028-92ee-ab368c2579ce"
      },
      "source": [
        "word_vectors['cat'].shape"
      ],
      "execution_count": 109,
      "outputs": [
        {
          "output_type": "execute_result",
          "data": {
            "text/plain": [
              "(300,)"
            ]
          },
          "metadata": {
            "tags": []
          },
          "execution_count": 109
        }
      ]
    },
    {
      "cell_type": "code",
      "metadata": {
        "id": "SPUj-tblsuW2",
        "colab_type": "code",
        "colab": {}
      },
      "source": [
        "non_embed = np.array([0.0]*300,dtype='float32')\n",
        "\n",
        "def get_from_word_dic(word):\n",
        "  try:\n",
        "    return word_vectors[word]\n",
        "  except:\n",
        "    return non_embed\n",
        "\n",
        "\n",
        "\n",
        "def add_features_embeds(features, sent, i):\n",
        "  word = sent[i][0]\n",
        "  postag = sent[i][1]\n",
        "  features.update({\n",
        "      'word-embed': get_from_word_dic(word)\n",
        "  })\n",
        "\n",
        "\n",
        "  if i > 0:\n",
        "    word1 = sent[i - 1][0]\n",
        "    postag1 = sent[i - 1][1]\n",
        "    features.update({\n",
        "        'prev-word-embed': get_from_word_dic(word1),\n",
        "        'prev-word-form': word1.lower(),\n",
        "        'prev-POS': postag1,\n",
        "        'prev-ORT': get_ort(word1),\n",
        "        'prev-suffix3': word1[-3: ],\n",
        "        'prev-suffix2': word1[-2: ],\n",
        "        'prev-suffix1': word1[-1: ],\n",
        "        'prev-prefix3': word1[: 3],\n",
        "        'prev-prefix2': word1[: 2],\n",
        "        'prev-prefix1': word1[: 1],\n",
        "    })\n",
        "  else :\n",
        "    features.update({\n",
        "        'prev-word-embed': np.array([0.0] * 300),\n",
        "        'prev-word-form': 'BOS',\n",
        "        'prev-POS': '<PAD>',\n",
        "        'prev-ORT': '~',\n",
        "        'prev-suffix3': '~',\n",
        "        'prev-suffix2': '~',\n",
        "        'prev-suffix1': '~',\n",
        "        'prev-prefix3': '~',\n",
        "        'prev-prefix2': '~',\n",
        "        'prev-prefix1': '~',\n",
        "    })\n",
        "\n",
        "  if i < len(sent) - 1:\n",
        "    word1 = sent[i + 1][0]\n",
        "    postag1 = sent[i + 1][1]\n",
        "    features.update({\n",
        "        'next-word-embed': get_from_word_dic(word1),\n",
        "        'next-word-form': word1.lower(),\n",
        "    })\n",
        "  else :\n",
        "    features.update({\n",
        "        'next-word-embed': np.array([0.0] * 300),\n",
        "        'next-word-form': 'EOS'\n",
        "    })\n",
        "\n",
        "  return features"
      ],
      "execution_count": 0,
      "outputs": []
    },
    {
      "cell_type": "code",
      "metadata": {
        "id": "PIndvUoDxVaf",
        "colab_type": "code",
        "colab": {}
      },
      "source": [
        "def embed_set(data):\n",
        "  return np.array([get_from_word_dic(w) for sen in data for w,_,_ in sen])\n",
        "\n",
        "data_set_embeds = list(map(lambda x:embed_set(x) , data_set))\n",
        "\n",
        "#Best f_measure according to measurements\n",
        "X_train_esp_emb,X_valid_esp_emb,X_test_esp_emb = xtr_xv_xt[-1]\n",
        "\n",
        "\n",
        "# x_data_set_emb = list(map(lambda x: flatten([sent2features(s,add_features_embeds) for s in x]),data_set))\n",
        "# X_train_esp_emb = x_data_set_emb[sets.tr_esp.value]\n",
        "# X_valid_esp_emb = x_data_set_emb[sets.v_esp.value]\n",
        "# X_test_esp_emb = x_data_set_emb[sets.t_esp.value]"
      ],
      "execution_count": 0,
      "outputs": []
    },
    {
      "cell_type": "code",
      "metadata": {
        "id": "34UkSdGrI2zu",
        "colab_type": "code",
        "colab": {
          "base_uri": "https://localhost:8080/",
          "height": 34
        },
        "outputId": "d83e8831-fd48-42a4-a9f1-f8d581ac4131"
      },
      "source": [
        "data_set_embeds[0].shape"
      ],
      "execution_count": 133,
      "outputs": [
        {
          "output_type": "execute_result",
          "data": {
            "text/plain": [
              "(264715, 300)"
            ]
          },
          "metadata": {
            "tags": []
          },
          "execution_count": 133
        }
      ]
    },
    {
      "cell_type": "code",
      "metadata": {
        "id": "CpEraVwmyG1_",
        "colab_type": "code",
        "colab": {
          "base_uri": "https://localhost:8080/",
          "height": 231
        },
        "outputId": "81dcb0ee-ddea-4f2a-8710-49bf1ce17980"
      },
      "source": [
        "dic_v = DictVectorizer(sparse=True)\n",
        "X = dic_v.fit_transform(X_train_esp_emb)\n",
        "print(X)\n",
        "\n",
        "# X = np.concatenate((X,data_set_embeds[0]), axis=1)\n",
        "# X.shape\n",
        "\n",
        "  # Y = y_train_esp\n",
        "  # try:\n",
        "  #   clf_embed = LogisticRegression(random_state=0,max_iter=200).fit(X, Y)\n",
        "  # except Exception as e:\n",
        "  #   print(e)\n",
        "  # print(\"Predicted:\",clf_embed.predict(X[0]))\n",
        "\n",
        "\n"
      ],
      "execution_count": 1,
      "outputs": [
        {
          "output_type": "error",
          "ename": "NameError",
          "evalue": "ignored",
          "traceback": [
            "\u001b[0;31m---------------------------------------------------------------------------\u001b[0m",
            "\u001b[0;31mNameError\u001b[0m                                 Traceback (most recent call last)",
            "\u001b[0;32m<ipython-input-1-565f13e2b5c4>\u001b[0m in \u001b[0;36m<module>\u001b[0;34m()\u001b[0m\n\u001b[0;32m----> 1\u001b[0;31m \u001b[0mdic_v\u001b[0m \u001b[0;34m=\u001b[0m \u001b[0mDictVectorizer\u001b[0m\u001b[0;34m(\u001b[0m\u001b[0msparse\u001b[0m\u001b[0;34m=\u001b[0m\u001b[0;32mTrue\u001b[0m\u001b[0;34m)\u001b[0m\u001b[0;34m\u001b[0m\u001b[0;34m\u001b[0m\u001b[0m\n\u001b[0m\u001b[1;32m      2\u001b[0m \u001b[0mX\u001b[0m \u001b[0;34m=\u001b[0m \u001b[0mdic_v\u001b[0m\u001b[0;34m.\u001b[0m\u001b[0mfit_transform\u001b[0m\u001b[0;34m(\u001b[0m\u001b[0mX_train_esp_emb\u001b[0m\u001b[0;34m)\u001b[0m\u001b[0;34m\u001b[0m\u001b[0;34m\u001b[0m\u001b[0m\n\u001b[1;32m      3\u001b[0m \u001b[0mprint\u001b[0m\u001b[0;34m(\u001b[0m\u001b[0mX\u001b[0m\u001b[0;34m)\u001b[0m\u001b[0;34m\u001b[0m\u001b[0;34m\u001b[0m\u001b[0m\n\u001b[1;32m      4\u001b[0m \u001b[0;34m\u001b[0m\u001b[0m\n\u001b[1;32m      5\u001b[0m \u001b[0;31m# X = np.concatenate((X,data_set_embeds[0]), axis=1)\u001b[0m\u001b[0;34m\u001b[0m\u001b[0;34m\u001b[0m\u001b[0;34m\u001b[0m\u001b[0m\n",
            "\u001b[0;31mNameError\u001b[0m: name 'DictVectorizer' is not defined"
          ]
        }
      ]
    },
    {
      "cell_type": "code",
      "metadata": {
        "id": "RENtRcrZ0Su3",
        "colab_type": "code",
        "colab": {
          "base_uri": "https://localhost:8080/",
          "height": 296
        },
        "outputId": "04ad5e92-d3c4-4d88-d5c3-830e0460e40b"
      },
      "source": [
        "  xv_embed = v.transform(X_valid_esp_emb)\n",
        "  plot_confusion_matrix(clf,xv_embed,y_valid_esp)\n",
        "  plot_prec_recall_fmeasure(clf,xv_embed,y_valid_esp)"
      ],
      "execution_count": 87,
      "outputs": [
        {
          "output_type": "stream",
          "text": [
            "(0.7410270667689048, 0.6960736502200778, 0.7131931717396419, None)\n"
          ],
          "name": "stdout"
        },
        {
          "output_type": "display_data",
          "data": {
            "image/png": "[encoded data removed]",
            "text/plain": [
              "<Figure size 432x288 with 2 Axes>"
            ]
          },
          "metadata": {
            "tags": []
          }
        }
      ]
    },
    {
      "cell_type": "code",
      "metadata": {
        "id": "IRuo75bl0_aO",
        "colab_type": "code",
        "colab": {}
      },
      "source": [
        ""
      ],
      "execution_count": 0,
      "outputs": []
    }
  ]
}